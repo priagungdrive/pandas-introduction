{
  "cells": [
    {
      "metadata": {
        "_uuid": "8f2839f25d086af736a60e9eeb907d3b93b6e0e5",
        "_cell_guid": "b1076dfc-b9ad-4769-8c92-a6c4dae69d19",
        "trusted": true,
        "id": "gJnDlxtitdt9"
      },
      "cell_type": "markdown",
      "source": [
        "# Pandas DataFrames"
      ]
    },
    {
      "metadata": {
        "id": "fCFASdqPtduD"
      },
      "cell_type": "markdown",
      "source": [
        "## Pandas Series"
      ]
    },
    {
      "metadata": {
        "id": "VK9ccUA2tduD"
      },
      "cell_type": "markdown",
      "source": [
        "Sebelum kita masuk ke DataFrames, kita akan mempelajari Pandas Series. Series sangat mirip dengan ndarrays: perbedaan utama di antara keduanya adalah bahwa dengan Series, Anda dapat memberikan label indeks khusus dan kemudian operasi yang Anda lakukan pada Series secara otomatis menyelaraskan data berdasarkan label.\n",
        "\n",
        "Struktur data utama di *pandas* diimplementasikan sebagai dua kelas:\n",
        "\n",
        "   * **`DataFrame`**, yang dapat Anda bayangkan sebagai tabel data relasional, dengan baris dan kolom bernama.\n",
        "   * **`Series`**, yang merupakan satu kolom. `DataFrame` berisi satu atau lebih `Series` dan nama untuk setiap `Series`.\n",
        "\n",
        "   ![image.png](data:image/png;base64,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)"
      ]
    },
    {
      "metadata": {
        "trusted": true,
        "id": "AolL1wPftduE"
      },
      "cell_type": "code",
      "source": [
        "import numpy as np\n",
        "import pandas as pd    "
      ],
      "execution_count": 3,
      "outputs": []
    },
    {
      "metadata": {
        "id": "rP5R-65jtduF"
      },
      "cell_type": "markdown",
      "source": [
        "*Catatan: Import Pandas dengan singkatan \"pd\" merupakan praktik yang umum dilakukan.*\n",
        "\n",
        "Tentukan seri baru dengan meneruskan kumpulan data homogen seperti ndarray atau daftar, bersama dengan daftar indeks terkait ke pd.Series():"
      ]
    },
    {
      "metadata": {
        "trusted": true,
        "colab": {
          "base_uri": "https://localhost:8080/"
        },
        "id": "C4OA6zgUtduG",
        "outputId": "b149290a-849c-4763-e11c-83135c36be79"
      },
      "cell_type": "code",
      "source": [
        "my_series = pd.Series( data = [2,3,5,4],             # Data\n",
        "                       index= ['a', 'b', 'c', 'd'])  # Indexes\n",
        "\n",
        "my_series"
      ],
      "execution_count": 4,
      "outputs": [
        {
          "output_type": "execute_result",
          "data": {
            "text/plain": [
              "a    2\n",
              "b    3\n",
              "c    5\n",
              "d    4\n",
              "dtype: int64"
            ]
          },
          "metadata": {},
          "execution_count": 4
        }
      ]
    },
    {
      "metadata": {
        "id": "StQ_sAontduH"
      },
      "cell_type": "markdown",
      "source": [
        "Anda juga dapat membuat rangkaian dari dictionary, dalam hal ini kunci kamus bertindak sebagai label dan nilai bertindak sebagai data:"
      ]
    },
    {
      "metadata": {
        "trusted": true,
        "colab": {
          "base_uri": "https://localhost:8080/"
        },
        "id": "J6ObVN4LtduI",
        "outputId": "27a14529-3908-41cf-d95e-559bb920e0b5"
      },
      "cell_type": "code",
      "source": [
        "my_dict = {\"x\": 2, \"a\": 5, \"b\": 4, \"c\": 8}\n",
        "\n",
        "my_series2 = pd.Series(my_dict)\n",
        "\n",
        "my_series2"
      ],
      "execution_count": 5,
      "outputs": [
        {
          "output_type": "execute_result",
          "data": {
            "text/plain": [
              "x    2\n",
              "a    5\n",
              "b    4\n",
              "c    8\n",
              "dtype: int64"
            ]
          },
          "metadata": {},
          "execution_count": 5
        }
      ]
    },
    {
      "metadata": {
        "id": "KlrRkezWtduJ"
      },
      "cell_type": "markdown",
      "source": [
        "Mirip dengan dictionary, Anda dapat mengakses item dalam rangkaian dengan label:"
      ]
    },
    {
      "metadata": {
        "trusted": true,
        "colab": {
          "base_uri": "https://localhost:8080/"
        },
        "id": "azbCuui4tduJ",
        "outputId": "52162733-a4e5-4e34-eadf-c67ee1d55c2b"
      },
      "cell_type": "code",
      "source": [
        "my_series[\"a\"]"
      ],
      "execution_count": 6,
      "outputs": [
        {
          "output_type": "execute_result",
          "data": {
            "text/plain": [
              "2"
            ]
          },
          "metadata": {},
          "execution_count": 6
        }
      ]
    },
    {
      "metadata": {
        "id": "CNdz7g5-tduK"
      },
      "cell_type": "markdown",
      "source": [
        "Pengindeksan numerik juga berfungsi:"
      ]
    },
    {
      "metadata": {
        "trusted": true,
        "colab": {
          "base_uri": "https://localhost:8080/"
        },
        "id": "ybnXpHdetduK",
        "outputId": "66af49f7-0d5e-41eb-f666-a04d7b751422"
      },
      "cell_type": "code",
      "source": [
        "my_series[0]"
      ],
      "execution_count": 7,
      "outputs": [
        {
          "output_type": "execute_result",
          "data": {
            "text/plain": [
              "2"
            ]
          },
          "metadata": {},
          "execution_count": 7
        }
      ]
    },
    {
      "metadata": {
        "id": "keBmkWy6tduL"
      },
      "cell_type": "markdown",
      "source": [
        "Jika Anda mengambil sepotong rangkaian, Anda mendapatkan nilai dan label yang terkandung dalam irisan:"
      ]
    },
    {
      "metadata": {
        "trusted": true,
        "colab": {
          "base_uri": "https://localhost:8080/"
        },
        "id": "N0KWfyb4tduL",
        "outputId": "8fcd9b22-2a83-4525-b2af-2de10aaf325b"
      },
      "cell_type": "code",
      "source": [
        "my_series[1:3]"
      ],
      "execution_count": 8,
      "outputs": [
        {
          "output_type": "execute_result",
          "data": {
            "text/plain": [
              "b    3\n",
              "c    5\n",
              "dtype: int64"
            ]
          },
          "metadata": {},
          "execution_count": 8
        }
      ]
    },
    {
      "metadata": {
        "id": "bus_7xWitduL"
      },
      "cell_type": "markdown",
      "source": [
        "Seperti disebutkan sebelumnya, operasi yang dilakukan pada dua Series sejajar dengan label:"
      ]
    },
    {
      "metadata": {
        "trusted": true,
        "colab": {
          "base_uri": "https://localhost:8080/"
        },
        "id": "xMKn2HOXtduM",
        "outputId": "00b90301-98ab-4c5d-e7e3-43e3388b59c1"
      },
      "cell_type": "code",
      "source": [
        "my_series + my_series"
      ],
      "execution_count": 9,
      "outputs": [
        {
          "output_type": "execute_result",
          "data": {
            "text/plain": [
              "a     4\n",
              "b     6\n",
              "c    10\n",
              "d     8\n",
              "dtype: int64"
            ]
          },
          "metadata": {},
          "execution_count": 9
        }
      ]
    },
    {
      "metadata": {
        "id": "9r_f1dKxtduM"
      },
      "cell_type": "markdown",
      "source": [
        "Jika Anda melakukan operasi dengan dua Series yang memiliki label berbeda, label yang tidak cocok akan mengembalikan nilai NaN (bukan angka)."
      ]
    },
    {
      "metadata": {
        "trusted": true,
        "colab": {
          "base_uri": "https://localhost:8080/"
        },
        "id": "9gySvMBetduM",
        "outputId": "a2867747-7f57-484e-df5a-5142cd7cac1a"
      },
      "cell_type": "code",
      "source": [
        "my_series + my_series2"
      ],
      "execution_count": 10,
      "outputs": [
        {
          "output_type": "execute_result",
          "data": {
            "text/plain": [
              "a     7.0\n",
              "b     7.0\n",
              "c    13.0\n",
              "d     NaN\n",
              "x     NaN\n",
              "dtype: float64"
            ]
          },
          "metadata": {},
          "execution_count": 10
        }
      ]
    },
    {
      "metadata": {
        "id": "Ap_ojQkntduM"
      },
      "cell_type": "markdown",
      "source": [
        "Selain pelabelan, rangkaian berperilaku seperti ndarray numpy. Serangkaian bahkan merupakan argumen yang valid untuk banyak fungsi array numpy yang kami bahas terakhir kali:"
      ]
    },
    {
      "metadata": {
        "trusted": true,
        "colab": {
          "base_uri": "https://localhost:8080/"
        },
        "id": "X1yLV7TZtduN",
        "outputId": "5cf601a5-526b-438d-e8fa-410008d4ba2e"
      },
      "cell_type": "code",
      "source": [
        "np.mean(my_series)        # numpy array functions generally work on series"
      ],
      "execution_count": 11,
      "outputs": [
        {
          "output_type": "execute_result",
          "data": {
            "text/plain": [
              "3.5"
            ]
          },
          "metadata": {},
          "execution_count": 11
        }
      ]
    },
    {
      "cell_type": "code",
      "source": [
        "pd.concat([my_series, my_series2], axis=1)"
      ],
      "metadata": {
        "colab": {
          "base_uri": "https://localhost:8080/",
          "height": 204
        },
        "id": "rXg3ACVU9NyI",
        "outputId": "fff6330a-87f8-43e2-be10-56356cf50095"
      },
      "execution_count": 12,
      "outputs": [
        {
          "output_type": "execute_result",
          "data": {
            "text/plain": [
              "     0    1\n",
              "a  2.0  5.0\n",
              "b  3.0  4.0\n",
              "c  5.0  8.0\n",
              "d  4.0  NaN\n",
              "x  NaN  2.0"
            ],
            "text/html": [
              "\n",
              "  <div id=\"df-bc22a5e2-d4c8-438e-b08b-3e90815f2a66\">\n",
              "    <div class=\"colab-df-container\">\n",
              "      <div>\n",
              "<style scoped>\n",
              "    .dataframe tbody tr th:only-of-type {\n",
              "        vertical-align: middle;\n",
              "    }\n",
              "\n",
              "    .dataframe tbody tr th {\n",
              "        vertical-align: top;\n",
              "    }\n",
              "\n",
              "    .dataframe thead th {\n",
              "        text-align: right;\n",
              "    }\n",
              "</style>\n",
              "<table border=\"1\" class=\"dataframe\">\n",
              "  <thead>\n",
              "    <tr style=\"text-align: right;\">\n",
              "      <th></th>\n",
              "      <th>0</th>\n",
              "      <th>1</th>\n",
              "    </tr>\n",
              "  </thead>\n",
              "  <tbody>\n",
              "    <tr>\n",
              "      <th>a</th>\n",
              "      <td>2.0</td>\n",
              "      <td>5.0</td>\n",
              "    </tr>\n",
              "    <tr>\n",
              "      <th>b</th>\n",
              "      <td>3.0</td>\n",
              "      <td>4.0</td>\n",
              "    </tr>\n",
              "    <tr>\n",
              "      <th>c</th>\n",
              "      <td>5.0</td>\n",
              "      <td>8.0</td>\n",
              "    </tr>\n",
              "    <tr>\n",
              "      <th>d</th>\n",
              "      <td>4.0</td>\n",
              "      <td>NaN</td>\n",
              "    </tr>\n",
              "    <tr>\n",
              "      <th>x</th>\n",
              "      <td>NaN</td>\n",
              "      <td>2.0</td>\n",
              "    </tr>\n",
              "  </tbody>\n",
              "</table>\n",
              "</div>\n",
              "      <button class=\"colab-df-convert\" onclick=\"convertToInteractive('df-bc22a5e2-d4c8-438e-b08b-3e90815f2a66')\"\n",
              "              title=\"Convert this dataframe to an interactive table.\"\n",
              "              style=\"display:none;\">\n",
              "        \n",
              "  <svg xmlns=\"http://www.w3.org/2000/svg\" height=\"24px\"viewBox=\"0 0 24 24\"\n",
              "       width=\"24px\">\n",
              "    <path d=\"M0 0h24v24H0V0z\" fill=\"none\"/>\n",
              "    <path d=\"M18.56 5.44l.94 2.06.94-2.06 2.06-.94-2.06-.94-.94-2.06-.94 2.06-2.06.94zm-11 1L8.5 8.5l.94-2.06 2.06-.94-2.06-.94L8.5 2.5l-.94 2.06-2.06.94zm10 10l.94 2.06.94-2.06 2.06-.94-2.06-.94-.94-2.06-.94 2.06-2.06.94z\"/><path d=\"M17.41 7.96l-1.37-1.37c-.4-.4-.92-.59-1.43-.59-.52 0-1.04.2-1.43.59L10.3 9.45l-7.72 7.72c-.78.78-.78 2.05 0 2.83L4 21.41c.39.39.9.59 1.41.59.51 0 1.02-.2 1.41-.59l7.78-7.78 2.81-2.81c.8-.78.8-2.07 0-2.86zM5.41 20L4 18.59l7.72-7.72 1.47 1.35L5.41 20z\"/>\n",
              "  </svg>\n",
              "      </button>\n",
              "      \n",
              "  <style>\n",
              "    .colab-df-container {\n",
              "      display:flex;\n",
              "      flex-wrap:wrap;\n",
              "      gap: 12px;\n",
              "    }\n",
              "\n",
              "    .colab-df-convert {\n",
              "      background-color: #E8F0FE;\n",
              "      border: none;\n",
              "      border-radius: 50%;\n",
              "      cursor: pointer;\n",
              "      display: none;\n",
              "      fill: #1967D2;\n",
              "      height: 32px;\n",
              "      padding: 0 0 0 0;\n",
              "      width: 32px;\n",
              "    }\n",
              "\n",
              "    .colab-df-convert:hover {\n",
              "      background-color: #E2EBFA;\n",
              "      box-shadow: 0px 1px 2px rgba(60, 64, 67, 0.3), 0px 1px 3px 1px rgba(60, 64, 67, 0.15);\n",
              "      fill: #174EA6;\n",
              "    }\n",
              "\n",
              "    [theme=dark] .colab-df-convert {\n",
              "      background-color: #3B4455;\n",
              "      fill: #D2E3FC;\n",
              "    }\n",
              "\n",
              "    [theme=dark] .colab-df-convert:hover {\n",
              "      background-color: #434B5C;\n",
              "      box-shadow: 0px 1px 3px 1px rgba(0, 0, 0, 0.15);\n",
              "      filter: drop-shadow(0px 1px 2px rgba(0, 0, 0, 0.3));\n",
              "      fill: #FFFFFF;\n",
              "    }\n",
              "  </style>\n",
              "\n",
              "      <script>\n",
              "        const buttonEl =\n",
              "          document.querySelector('#df-bc22a5e2-d4c8-438e-b08b-3e90815f2a66 button.colab-df-convert');\n",
              "        buttonEl.style.display =\n",
              "          google.colab.kernel.accessAllowed ? 'block' : 'none';\n",
              "\n",
              "        async function convertToInteractive(key) {\n",
              "          const element = document.querySelector('#df-bc22a5e2-d4c8-438e-b08b-3e90815f2a66');\n",
              "          const dataTable =\n",
              "            await google.colab.kernel.invokeFunction('convertToInteractive',\n",
              "                                                     [key], {});\n",
              "          if (!dataTable) return;\n",
              "\n",
              "          const docLinkHtml = 'Like what you see? Visit the ' +\n",
              "            '<a target=\"_blank\" href=https://colab.research.google.com/notebooks/data_table.ipynb>data table notebook</a>'\n",
              "            + ' to learn more about interactive tables.';\n",
              "          element.innerHTML = '';\n",
              "          dataTable['output_type'] = 'display_data';\n",
              "          await google.colab.output.renderOutput(dataTable, element);\n",
              "          const docLink = document.createElement('div');\n",
              "          docLink.innerHTML = docLinkHtml;\n",
              "          element.appendChild(docLink);\n",
              "        }\n",
              "      </script>\n",
              "    </div>\n",
              "  </div>\n",
              "  "
            ]
          },
          "metadata": {},
          "execution_count": 12
        }
      ]
    },
    {
      "cell_type": "code",
      "source": [
        "df = pd.DataFrame(columns = ['Column_name#1', 'Column_name#2'])\n",
        "\n",
        "df['Column_name#1'] = my_series\n",
        "df['Column_name#2'] = my_series2"
      ],
      "metadata": {
        "id": "Bp64Yqz29aTK"
      },
      "execution_count": 13,
      "outputs": []
    },
    {
      "cell_type": "code",
      "source": [
        "df.head()"
      ],
      "metadata": {
        "colab": {
          "base_uri": "https://localhost:8080/",
          "height": 173
        },
        "id": "PCpa9S-b9gfl",
        "outputId": "78100683-1056-4bc4-9937-c4a9d148d6eb"
      },
      "execution_count": 14,
      "outputs": [
        {
          "output_type": "execute_result",
          "data": {
            "text/plain": [
              "   Column_name#1  Column_name#2\n",
              "a              2            5.0\n",
              "b              3            4.0\n",
              "c              5            8.0\n",
              "d              4            NaN"
            ],
            "text/html": [
              "\n",
              "  <div id=\"df-b0be64c3-aa20-43c8-8869-efcbaaeaceac\">\n",
              "    <div class=\"colab-df-container\">\n",
              "      <div>\n",
              "<style scoped>\n",
              "    .dataframe tbody tr th:only-of-type {\n",
              "        vertical-align: middle;\n",
              "    }\n",
              "\n",
              "    .dataframe tbody tr th {\n",
              "        vertical-align: top;\n",
              "    }\n",
              "\n",
              "    .dataframe thead th {\n",
              "        text-align: right;\n",
              "    }\n",
              "</style>\n",
              "<table border=\"1\" class=\"dataframe\">\n",
              "  <thead>\n",
              "    <tr style=\"text-align: right;\">\n",
              "      <th></th>\n",
              "      <th>Column_name#1</th>\n",
              "      <th>Column_name#2</th>\n",
              "    </tr>\n",
              "  </thead>\n",
              "  <tbody>\n",
              "    <tr>\n",
              "      <th>a</th>\n",
              "      <td>2</td>\n",
              "      <td>5.0</td>\n",
              "    </tr>\n",
              "    <tr>\n",
              "      <th>b</th>\n",
              "      <td>3</td>\n",
              "      <td>4.0</td>\n",
              "    </tr>\n",
              "    <tr>\n",
              "      <th>c</th>\n",
              "      <td>5</td>\n",
              "      <td>8.0</td>\n",
              "    </tr>\n",
              "    <tr>\n",
              "      <th>d</th>\n",
              "      <td>4</td>\n",
              "      <td>NaN</td>\n",
              "    </tr>\n",
              "  </tbody>\n",
              "</table>\n",
              "</div>\n",
              "      <button class=\"colab-df-convert\" onclick=\"convertToInteractive('df-b0be64c3-aa20-43c8-8869-efcbaaeaceac')\"\n",
              "              title=\"Convert this dataframe to an interactive table.\"\n",
              "              style=\"display:none;\">\n",
              "        \n",
              "  <svg xmlns=\"http://www.w3.org/2000/svg\" height=\"24px\"viewBox=\"0 0 24 24\"\n",
              "       width=\"24px\">\n",
              "    <path d=\"M0 0h24v24H0V0z\" fill=\"none\"/>\n",
              "    <path d=\"M18.56 5.44l.94 2.06.94-2.06 2.06-.94-2.06-.94-.94-2.06-.94 2.06-2.06.94zm-11 1L8.5 8.5l.94-2.06 2.06-.94-2.06-.94L8.5 2.5l-.94 2.06-2.06.94zm10 10l.94 2.06.94-2.06 2.06-.94-2.06-.94-.94-2.06-.94 2.06-2.06.94z\"/><path d=\"M17.41 7.96l-1.37-1.37c-.4-.4-.92-.59-1.43-.59-.52 0-1.04.2-1.43.59L10.3 9.45l-7.72 7.72c-.78.78-.78 2.05 0 2.83L4 21.41c.39.39.9.59 1.41.59.51 0 1.02-.2 1.41-.59l7.78-7.78 2.81-2.81c.8-.78.8-2.07 0-2.86zM5.41 20L4 18.59l7.72-7.72 1.47 1.35L5.41 20z\"/>\n",
              "  </svg>\n",
              "      </button>\n",
              "      \n",
              "  <style>\n",
              "    .colab-df-container {\n",
              "      display:flex;\n",
              "      flex-wrap:wrap;\n",
              "      gap: 12px;\n",
              "    }\n",
              "\n",
              "    .colab-df-convert {\n",
              "      background-color: #E8F0FE;\n",
              "      border: none;\n",
              "      border-radius: 50%;\n",
              "      cursor: pointer;\n",
              "      display: none;\n",
              "      fill: #1967D2;\n",
              "      height: 32px;\n",
              "      padding: 0 0 0 0;\n",
              "      width: 32px;\n",
              "    }\n",
              "\n",
              "    .colab-df-convert:hover {\n",
              "      background-color: #E2EBFA;\n",
              "      box-shadow: 0px 1px 2px rgba(60, 64, 67, 0.3), 0px 1px 3px 1px rgba(60, 64, 67, 0.15);\n",
              "      fill: #174EA6;\n",
              "    }\n",
              "\n",
              "    [theme=dark] .colab-df-convert {\n",
              "      background-color: #3B4455;\n",
              "      fill: #D2E3FC;\n",
              "    }\n",
              "\n",
              "    [theme=dark] .colab-df-convert:hover {\n",
              "      background-color: #434B5C;\n",
              "      box-shadow: 0px 1px 3px 1px rgba(0, 0, 0, 0.15);\n",
              "      filter: drop-shadow(0px 1px 2px rgba(0, 0, 0, 0.3));\n",
              "      fill: #FFFFFF;\n",
              "    }\n",
              "  </style>\n",
              "\n",
              "      <script>\n",
              "        const buttonEl =\n",
              "          document.querySelector('#df-b0be64c3-aa20-43c8-8869-efcbaaeaceac button.colab-df-convert');\n",
              "        buttonEl.style.display =\n",
              "          google.colab.kernel.accessAllowed ? 'block' : 'none';\n",
              "\n",
              "        async function convertToInteractive(key) {\n",
              "          const element = document.querySelector('#df-b0be64c3-aa20-43c8-8869-efcbaaeaceac');\n",
              "          const dataTable =\n",
              "            await google.colab.kernel.invokeFunction('convertToInteractive',\n",
              "                                                     [key], {});\n",
              "          if (!dataTable) return;\n",
              "\n",
              "          const docLinkHtml = 'Like what you see? Visit the ' +\n",
              "            '<a target=\"_blank\" href=https://colab.research.google.com/notebooks/data_table.ipynb>data table notebook</a>'\n",
              "            + ' to learn more about interactive tables.';\n",
              "          element.innerHTML = '';\n",
              "          dataTable['output_type'] = 'display_data';\n",
              "          await google.colab.output.renderOutput(dataTable, element);\n",
              "          const docLink = document.createElement('div');\n",
              "          docLink.innerHTML = docLinkHtml;\n",
              "          element.appendChild(docLink);\n",
              "        }\n",
              "      </script>\n",
              "    </div>\n",
              "  </div>\n",
              "  "
            ]
          },
          "metadata": {},
          "execution_count": 14
        }
      ]
    },
    {
      "metadata": {
        "id": "luTTDVsRtduN"
      },
      "cell_type": "markdown",
      "source": [
        "## DataFrame Creation and Indexing"
      ]
    },
    {
      "metadata": {
        "id": "fUA9xTdbtduN"
      },
      "cell_type": "markdown",
      "source": [
        "DataFrame adalah tabel 2D dengan kolom berlabel yang masing-masing dapat menampung berbagai jenis data. DataFrames pada dasarnya adalah implementasi Python dari jenis tabel yang Anda lihat di buku kerja Excel atau database SQL."
      ]
    },
    {
      "metadata": {
        "trusted": true,
        "colab": {
          "base_uri": "https://localhost:8080/",
          "height": 142
        },
        "id": "DZjYE7PZtduO",
        "outputId": "877bd4aa-bb2c-47eb-fc6b-43009d1c1571"
      },
      "cell_type": "code",
      "source": [
        "import numpy as np\n",
        "import pandas as pd\n",
        "my_dict2 = {\"name\" : [\"Joe\",\"Bob\",\"Frans\"],\n",
        "           \"age\" : np.array([10,15,20]),\n",
        "           \"weight\" : (75,123,239),\n",
        "           \"height\" :[4.5, 5, 6.1],\n",
        "           \"siblings\" : 1,\n",
        "           \"gender\" : \"M\"}\n",
        "\n",
        "df2 = pd.DataFrame(my_dict2)   # Convert the dict to DataFrame\n",
        "\n",
        "df2                            # Show the DataFrame"
      ],
      "execution_count": 15,
      "outputs": [
        {
          "output_type": "execute_result",
          "data": {
            "text/plain": [
              "    name  age  weight  height  siblings gender\n",
              "0    Joe   10      75     4.5         1      M\n",
              "1    Bob   15     123     5.0         1      M\n",
              "2  Frans   20     239     6.1         1      M"
            ],
            "text/html": [
              "\n",
              "  <div id=\"df-196061fc-1855-431c-8f82-7f254a67b0a2\">\n",
              "    <div class=\"colab-df-container\">\n",
              "      <div>\n",
              "<style scoped>\n",
              "    .dataframe tbody tr th:only-of-type {\n",
              "        vertical-align: middle;\n",
              "    }\n",
              "\n",
              "    .dataframe tbody tr th {\n",
              "        vertical-align: top;\n",
              "    }\n",
              "\n",
              "    .dataframe thead th {\n",
              "        text-align: right;\n",
              "    }\n",
              "</style>\n",
              "<table border=\"1\" class=\"dataframe\">\n",
              "  <thead>\n",
              "    <tr style=\"text-align: right;\">\n",
              "      <th></th>\n",
              "      <th>name</th>\n",
              "      <th>age</th>\n",
              "      <th>weight</th>\n",
              "      <th>height</th>\n",
              "      <th>siblings</th>\n",
              "      <th>gender</th>\n",
              "    </tr>\n",
              "  </thead>\n",
              "  <tbody>\n",
              "    <tr>\n",
              "      <th>0</th>\n",
              "      <td>Joe</td>\n",
              "      <td>10</td>\n",
              "      <td>75</td>\n",
              "      <td>4.5</td>\n",
              "      <td>1</td>\n",
              "      <td>M</td>\n",
              "    </tr>\n",
              "    <tr>\n",
              "      <th>1</th>\n",
              "      <td>Bob</td>\n",
              "      <td>15</td>\n",
              "      <td>123</td>\n",
              "      <td>5.0</td>\n",
              "      <td>1</td>\n",
              "      <td>M</td>\n",
              "    </tr>\n",
              "    <tr>\n",
              "      <th>2</th>\n",
              "      <td>Frans</td>\n",
              "      <td>20</td>\n",
              "      <td>239</td>\n",
              "      <td>6.1</td>\n",
              "      <td>1</td>\n",
              "      <td>M</td>\n",
              "    </tr>\n",
              "  </tbody>\n",
              "</table>\n",
              "</div>\n",
              "      <button class=\"colab-df-convert\" onclick=\"convertToInteractive('df-196061fc-1855-431c-8f82-7f254a67b0a2')\"\n",
              "              title=\"Convert this dataframe to an interactive table.\"\n",
              "              style=\"display:none;\">\n",
              "        \n",
              "  <svg xmlns=\"http://www.w3.org/2000/svg\" height=\"24px\"viewBox=\"0 0 24 24\"\n",
              "       width=\"24px\">\n",
              "    <path d=\"M0 0h24v24H0V0z\" fill=\"none\"/>\n",
              "    <path d=\"M18.56 5.44l.94 2.06.94-2.06 2.06-.94-2.06-.94-.94-2.06-.94 2.06-2.06.94zm-11 1L8.5 8.5l.94-2.06 2.06-.94-2.06-.94L8.5 2.5l-.94 2.06-2.06.94zm10 10l.94 2.06.94-2.06 2.06-.94-2.06-.94-.94-2.06-.94 2.06-2.06.94z\"/><path d=\"M17.41 7.96l-1.37-1.37c-.4-.4-.92-.59-1.43-.59-.52 0-1.04.2-1.43.59L10.3 9.45l-7.72 7.72c-.78.78-.78 2.05 0 2.83L4 21.41c.39.39.9.59 1.41.59.51 0 1.02-.2 1.41-.59l7.78-7.78 2.81-2.81c.8-.78.8-2.07 0-2.86zM5.41 20L4 18.59l7.72-7.72 1.47 1.35L5.41 20z\"/>\n",
              "  </svg>\n",
              "      </button>\n",
              "      \n",
              "  <style>\n",
              "    .colab-df-container {\n",
              "      display:flex;\n",
              "      flex-wrap:wrap;\n",
              "      gap: 12px;\n",
              "    }\n",
              "\n",
              "    .colab-df-convert {\n",
              "      background-color: #E8F0FE;\n",
              "      border: none;\n",
              "      border-radius: 50%;\n",
              "      cursor: pointer;\n",
              "      display: none;\n",
              "      fill: #1967D2;\n",
              "      height: 32px;\n",
              "      padding: 0 0 0 0;\n",
              "      width: 32px;\n",
              "    }\n",
              "\n",
              "    .colab-df-convert:hover {\n",
              "      background-color: #E2EBFA;\n",
              "      box-shadow: 0px 1px 2px rgba(60, 64, 67, 0.3), 0px 1px 3px 1px rgba(60, 64, 67, 0.15);\n",
              "      fill: #174EA6;\n",
              "    }\n",
              "\n",
              "    [theme=dark] .colab-df-convert {\n",
              "      background-color: #3B4455;\n",
              "      fill: #D2E3FC;\n",
              "    }\n",
              "\n",
              "    [theme=dark] .colab-df-convert:hover {\n",
              "      background-color: #434B5C;\n",
              "      box-shadow: 0px 1px 3px 1px rgba(0, 0, 0, 0.15);\n",
              "      filter: drop-shadow(0px 1px 2px rgba(0, 0, 0, 0.3));\n",
              "      fill: #FFFFFF;\n",
              "    }\n",
              "  </style>\n",
              "\n",
              "      <script>\n",
              "        const buttonEl =\n",
              "          document.querySelector('#df-196061fc-1855-431c-8f82-7f254a67b0a2 button.colab-df-convert');\n",
              "        buttonEl.style.display =\n",
              "          google.colab.kernel.accessAllowed ? 'block' : 'none';\n",
              "\n",
              "        async function convertToInteractive(key) {\n",
              "          const element = document.querySelector('#df-196061fc-1855-431c-8f82-7f254a67b0a2');\n",
              "          const dataTable =\n",
              "            await google.colab.kernel.invokeFunction('convertToInteractive',\n",
              "                                                     [key], {});\n",
              "          if (!dataTable) return;\n",
              "\n",
              "          const docLinkHtml = 'Like what you see? Visit the ' +\n",
              "            '<a target=\"_blank\" href=https://colab.research.google.com/notebooks/data_table.ipynb>data table notebook</a>'\n",
              "            + ' to learn more about interactive tables.';\n",
              "          element.innerHTML = '';\n",
              "          dataTable['output_type'] = 'display_data';\n",
              "          await google.colab.output.renderOutput(dataTable, element);\n",
              "          const docLink = document.createElement('div');\n",
              "          docLink.innerHTML = docLinkHtml;\n",
              "          element.appendChild(docLink);\n",
              "        }\n",
              "      </script>\n",
              "    </div>\n",
              "  </div>\n",
              "  "
            ]
          },
          "metadata": {},
          "execution_count": 15
        }
      ]
    },
    {
      "metadata": {
        "id": "qEBWv5KWtduO"
      },
      "cell_type": "markdown",
      "source": [
        "Anda dapat memberikan label baris khusus saat membuat DataFrame dengan menambahkan argumen indeks:"
      ]
    },
    {
      "metadata": {
        "trusted": true,
        "colab": {
          "base_uri": "https://localhost:8080/",
          "height": 142
        },
        "id": "2n4w5NdmtduP",
        "outputId": "05684f08-6c8f-4a80-f36b-bceaa6ea4d47"
      },
      "cell_type": "code",
      "source": [
        "df2 = pd.DataFrame(my_dict2,\n",
        "                   index = my_dict2[\"name\"] )\n",
        "\n",
        "df2"
      ],
      "execution_count": 16,
      "outputs": [
        {
          "output_type": "execute_result",
          "data": {
            "text/plain": [
              "        name  age  weight  height  siblings gender\n",
              "Joe      Joe   10      75     4.5         1      M\n",
              "Bob      Bob   15     123     5.0         1      M\n",
              "Frans  Frans   20     239     6.1         1      M"
            ],
            "text/html": [
              "\n",
              "  <div id=\"df-8f042dea-ea61-457b-82cc-4b4aa974fd97\">\n",
              "    <div class=\"colab-df-container\">\n",
              "      <div>\n",
              "<style scoped>\n",
              "    .dataframe tbody tr th:only-of-type {\n",
              "        vertical-align: middle;\n",
              "    }\n",
              "\n",
              "    .dataframe tbody tr th {\n",
              "        vertical-align: top;\n",
              "    }\n",
              "\n",
              "    .dataframe thead th {\n",
              "        text-align: right;\n",
              "    }\n",
              "</style>\n",
              "<table border=\"1\" class=\"dataframe\">\n",
              "  <thead>\n",
              "    <tr style=\"text-align: right;\">\n",
              "      <th></th>\n",
              "      <th>name</th>\n",
              "      <th>age</th>\n",
              "      <th>weight</th>\n",
              "      <th>height</th>\n",
              "      <th>siblings</th>\n",
              "      <th>gender</th>\n",
              "    </tr>\n",
              "  </thead>\n",
              "  <tbody>\n",
              "    <tr>\n",
              "      <th>Joe</th>\n",
              "      <td>Joe</td>\n",
              "      <td>10</td>\n",
              "      <td>75</td>\n",
              "      <td>4.5</td>\n",
              "      <td>1</td>\n",
              "      <td>M</td>\n",
              "    </tr>\n",
              "    <tr>\n",
              "      <th>Bob</th>\n",
              "      <td>Bob</td>\n",
              "      <td>15</td>\n",
              "      <td>123</td>\n",
              "      <td>5.0</td>\n",
              "      <td>1</td>\n",
              "      <td>M</td>\n",
              "    </tr>\n",
              "    <tr>\n",
              "      <th>Frans</th>\n",
              "      <td>Frans</td>\n",
              "      <td>20</td>\n",
              "      <td>239</td>\n",
              "      <td>6.1</td>\n",
              "      <td>1</td>\n",
              "      <td>M</td>\n",
              "    </tr>\n",
              "  </tbody>\n",
              "</table>\n",
              "</div>\n",
              "      <button class=\"colab-df-convert\" onclick=\"convertToInteractive('df-8f042dea-ea61-457b-82cc-4b4aa974fd97')\"\n",
              "              title=\"Convert this dataframe to an interactive table.\"\n",
              "              style=\"display:none;\">\n",
              "        \n",
              "  <svg xmlns=\"http://www.w3.org/2000/svg\" height=\"24px\"viewBox=\"0 0 24 24\"\n",
              "       width=\"24px\">\n",
              "    <path d=\"M0 0h24v24H0V0z\" fill=\"none\"/>\n",
              "    <path d=\"M18.56 5.44l.94 2.06.94-2.06 2.06-.94-2.06-.94-.94-2.06-.94 2.06-2.06.94zm-11 1L8.5 8.5l.94-2.06 2.06-.94-2.06-.94L8.5 2.5l-.94 2.06-2.06.94zm10 10l.94 2.06.94-2.06 2.06-.94-2.06-.94-.94-2.06-.94 2.06-2.06.94z\"/><path d=\"M17.41 7.96l-1.37-1.37c-.4-.4-.92-.59-1.43-.59-.52 0-1.04.2-1.43.59L10.3 9.45l-7.72 7.72c-.78.78-.78 2.05 0 2.83L4 21.41c.39.39.9.59 1.41.59.51 0 1.02-.2 1.41-.59l7.78-7.78 2.81-2.81c.8-.78.8-2.07 0-2.86zM5.41 20L4 18.59l7.72-7.72 1.47 1.35L5.41 20z\"/>\n",
              "  </svg>\n",
              "      </button>\n",
              "      \n",
              "  <style>\n",
              "    .colab-df-container {\n",
              "      display:flex;\n",
              "      flex-wrap:wrap;\n",
              "      gap: 12px;\n",
              "    }\n",
              "\n",
              "    .colab-df-convert {\n",
              "      background-color: #E8F0FE;\n",
              "      border: none;\n",
              "      border-radius: 50%;\n",
              "      cursor: pointer;\n",
              "      display: none;\n",
              "      fill: #1967D2;\n",
              "      height: 32px;\n",
              "      padding: 0 0 0 0;\n",
              "      width: 32px;\n",
              "    }\n",
              "\n",
              "    .colab-df-convert:hover {\n",
              "      background-color: #E2EBFA;\n",
              "      box-shadow: 0px 1px 2px rgba(60, 64, 67, 0.3), 0px 1px 3px 1px rgba(60, 64, 67, 0.15);\n",
              "      fill: #174EA6;\n",
              "    }\n",
              "\n",
              "    [theme=dark] .colab-df-convert {\n",
              "      background-color: #3B4455;\n",
              "      fill: #D2E3FC;\n",
              "    }\n",
              "\n",
              "    [theme=dark] .colab-df-convert:hover {\n",
              "      background-color: #434B5C;\n",
              "      box-shadow: 0px 1px 3px 1px rgba(0, 0, 0, 0.15);\n",
              "      filter: drop-shadow(0px 1px 2px rgba(0, 0, 0, 0.3));\n",
              "      fill: #FFFFFF;\n",
              "    }\n",
              "  </style>\n",
              "\n",
              "      <script>\n",
              "        const buttonEl =\n",
              "          document.querySelector('#df-8f042dea-ea61-457b-82cc-4b4aa974fd97 button.colab-df-convert');\n",
              "        buttonEl.style.display =\n",
              "          google.colab.kernel.accessAllowed ? 'block' : 'none';\n",
              "\n",
              "        async function convertToInteractive(key) {\n",
              "          const element = document.querySelector('#df-8f042dea-ea61-457b-82cc-4b4aa974fd97');\n",
              "          const dataTable =\n",
              "            await google.colab.kernel.invokeFunction('convertToInteractive',\n",
              "                                                     [key], {});\n",
              "          if (!dataTable) return;\n",
              "\n",
              "          const docLinkHtml = 'Like what you see? Visit the ' +\n",
              "            '<a target=\"_blank\" href=https://colab.research.google.com/notebooks/data_table.ipynb>data table notebook</a>'\n",
              "            + ' to learn more about interactive tables.';\n",
              "          element.innerHTML = '';\n",
              "          dataTable['output_type'] = 'display_data';\n",
              "          await google.colab.output.renderOutput(dataTable, element);\n",
              "          const docLink = document.createElement('div');\n",
              "          docLink.innerHTML = docLinkHtml;\n",
              "          element.appendChild(docLink);\n",
              "        }\n",
              "      </script>\n",
              "    </div>\n",
              "  </div>\n",
              "  "
            ]
          },
          "metadata": {},
          "execution_count": 16
        }
      ]
    },
    {
      "metadata": {
        "id": "9-YNSxdStduP"
      },
      "cell_type": "markdown",
      "source": [
        "DataFrame berperilaku seperti kamus objek Series yang masing-masing memiliki panjang dan indeks yang sama. Ini berarti kita bisa mendapatkan, menambah, dan menghapus kolom dalam DataFrame dengan cara yang sama seperti saat kita berurusan dengan kamus:"
      ]
    },
    {
      "metadata": {
        "trusted": true,
        "colab": {
          "base_uri": "https://localhost:8080/"
        },
        "id": "qHDUfrbgtduP",
        "outputId": "f91fc10c-b493-4af6-92ab-ab0f06d9be63"
      },
      "cell_type": "code",
      "source": [
        "# Get a column by name\n",
        "\n",
        "df2[\"weight\"]"
      ],
      "execution_count": 17,
      "outputs": [
        {
          "output_type": "execute_result",
          "data": {
            "text/plain": [
              "Joe       75\n",
              "Bob      123\n",
              "Frans    239\n",
              "Name: weight, dtype: int64"
            ]
          },
          "metadata": {},
          "execution_count": 17
        }
      ]
    },
    {
      "metadata": {
        "id": "WapWV7gPtduP"
      },
      "cell_type": "markdown",
      "source": [
        "Atau, Anda bisa mendapatkan kolom dengan label menggunakan notasi \"titik\":"
      ]
    },
    {
      "metadata": {
        "trusted": true,
        "colab": {
          "base_uri": "https://localhost:8080/"
        },
        "id": "cYjtOVkqtduP",
        "outputId": "23946018-a077-45f2-950a-98e74bf50303"
      },
      "cell_type": "code",
      "source": [
        "df2.weight"
      ],
      "execution_count": 18,
      "outputs": [
        {
          "output_type": "execute_result",
          "data": {
            "text/plain": [
              "Joe       75\n",
              "Bob      123\n",
              "Frans    239\n",
              "Name: weight, dtype: int64"
            ]
          },
          "metadata": {},
          "execution_count": 18
        }
      ]
    },
    {
      "metadata": {
        "trusted": true,
        "id": "BQxRGoKCtduQ"
      },
      "cell_type": "code",
      "source": [
        "# Delete a column\n",
        "\n",
        "del df2['name']"
      ],
      "execution_count": 19,
      "outputs": []
    },
    {
      "metadata": {
        "trusted": true,
        "colab": {
          "base_uri": "https://localhost:8080/",
          "height": 142
        },
        "id": "33zVYFuytduQ",
        "outputId": "36147f13-0bb8-4d6e-c61a-707625353581"
      },
      "cell_type": "code",
      "source": [
        "# Add a new column\n",
        "\n",
        "df2[\"IQ\"] = [130, 105, 115]\n",
        "\n",
        "df2"
      ],
      "execution_count": 20,
      "outputs": [
        {
          "output_type": "execute_result",
          "data": {
            "text/plain": [
              "       age  weight  height  siblings gender   IQ\n",
              "Joe     10      75     4.5         1      M  130\n",
              "Bob     15     123     5.0         1      M  105\n",
              "Frans   20     239     6.1         1      M  115"
            ],
            "text/html": [
              "\n",
              "  <div id=\"df-f50c4f43-7f1c-4a66-b5ac-50e1258e939d\">\n",
              "    <div class=\"colab-df-container\">\n",
              "      <div>\n",
              "<style scoped>\n",
              "    .dataframe tbody tr th:only-of-type {\n",
              "        vertical-align: middle;\n",
              "    }\n",
              "\n",
              "    .dataframe tbody tr th {\n",
              "        vertical-align: top;\n",
              "    }\n",
              "\n",
              "    .dataframe thead th {\n",
              "        text-align: right;\n",
              "    }\n",
              "</style>\n",
              "<table border=\"1\" class=\"dataframe\">\n",
              "  <thead>\n",
              "    <tr style=\"text-align: right;\">\n",
              "      <th></th>\n",
              "      <th>age</th>\n",
              "      <th>weight</th>\n",
              "      <th>height</th>\n",
              "      <th>siblings</th>\n",
              "      <th>gender</th>\n",
              "      <th>IQ</th>\n",
              "    </tr>\n",
              "  </thead>\n",
              "  <tbody>\n",
              "    <tr>\n",
              "      <th>Joe</th>\n",
              "      <td>10</td>\n",
              "      <td>75</td>\n",
              "      <td>4.5</td>\n",
              "      <td>1</td>\n",
              "      <td>M</td>\n",
              "      <td>130</td>\n",
              "    </tr>\n",
              "    <tr>\n",
              "      <th>Bob</th>\n",
              "      <td>15</td>\n",
              "      <td>123</td>\n",
              "      <td>5.0</td>\n",
              "      <td>1</td>\n",
              "      <td>M</td>\n",
              "      <td>105</td>\n",
              "    </tr>\n",
              "    <tr>\n",
              "      <th>Frans</th>\n",
              "      <td>20</td>\n",
              "      <td>239</td>\n",
              "      <td>6.1</td>\n",
              "      <td>1</td>\n",
              "      <td>M</td>\n",
              "      <td>115</td>\n",
              "    </tr>\n",
              "  </tbody>\n",
              "</table>\n",
              "</div>\n",
              "      <button class=\"colab-df-convert\" onclick=\"convertToInteractive('df-f50c4f43-7f1c-4a66-b5ac-50e1258e939d')\"\n",
              "              title=\"Convert this dataframe to an interactive table.\"\n",
              "              style=\"display:none;\">\n",
              "        \n",
              "  <svg xmlns=\"http://www.w3.org/2000/svg\" height=\"24px\"viewBox=\"0 0 24 24\"\n",
              "       width=\"24px\">\n",
              "    <path d=\"M0 0h24v24H0V0z\" fill=\"none\"/>\n",
              "    <path d=\"M18.56 5.44l.94 2.06.94-2.06 2.06-.94-2.06-.94-.94-2.06-.94 2.06-2.06.94zm-11 1L8.5 8.5l.94-2.06 2.06-.94-2.06-.94L8.5 2.5l-.94 2.06-2.06.94zm10 10l.94 2.06.94-2.06 2.06-.94-2.06-.94-.94-2.06-.94 2.06-2.06.94z\"/><path d=\"M17.41 7.96l-1.37-1.37c-.4-.4-.92-.59-1.43-.59-.52 0-1.04.2-1.43.59L10.3 9.45l-7.72 7.72c-.78.78-.78 2.05 0 2.83L4 21.41c.39.39.9.59 1.41.59.51 0 1.02-.2 1.41-.59l7.78-7.78 2.81-2.81c.8-.78.8-2.07 0-2.86zM5.41 20L4 18.59l7.72-7.72 1.47 1.35L5.41 20z\"/>\n",
              "  </svg>\n",
              "      </button>\n",
              "      \n",
              "  <style>\n",
              "    .colab-df-container {\n",
              "      display:flex;\n",
              "      flex-wrap:wrap;\n",
              "      gap: 12px;\n",
              "    }\n",
              "\n",
              "    .colab-df-convert {\n",
              "      background-color: #E8F0FE;\n",
              "      border: none;\n",
              "      border-radius: 50%;\n",
              "      cursor: pointer;\n",
              "      display: none;\n",
              "      fill: #1967D2;\n",
              "      height: 32px;\n",
              "      padding: 0 0 0 0;\n",
              "      width: 32px;\n",
              "    }\n",
              "\n",
              "    .colab-df-convert:hover {\n",
              "      background-color: #E2EBFA;\n",
              "      box-shadow: 0px 1px 2px rgba(60, 64, 67, 0.3), 0px 1px 3px 1px rgba(60, 64, 67, 0.15);\n",
              "      fill: #174EA6;\n",
              "    }\n",
              "\n",
              "    [theme=dark] .colab-df-convert {\n",
              "      background-color: #3B4455;\n",
              "      fill: #D2E3FC;\n",
              "    }\n",
              "\n",
              "    [theme=dark] .colab-df-convert:hover {\n",
              "      background-color: #434B5C;\n",
              "      box-shadow: 0px 1px 3px 1px rgba(0, 0, 0, 0.15);\n",
              "      filter: drop-shadow(0px 1px 2px rgba(0, 0, 0, 0.3));\n",
              "      fill: #FFFFFF;\n",
              "    }\n",
              "  </style>\n",
              "\n",
              "      <script>\n",
              "        const buttonEl =\n",
              "          document.querySelector('#df-f50c4f43-7f1c-4a66-b5ac-50e1258e939d button.colab-df-convert');\n",
              "        buttonEl.style.display =\n",
              "          google.colab.kernel.accessAllowed ? 'block' : 'none';\n",
              "\n",
              "        async function convertToInteractive(key) {\n",
              "          const element = document.querySelector('#df-f50c4f43-7f1c-4a66-b5ac-50e1258e939d');\n",
              "          const dataTable =\n",
              "            await google.colab.kernel.invokeFunction('convertToInteractive',\n",
              "                                                     [key], {});\n",
              "          if (!dataTable) return;\n",
              "\n",
              "          const docLinkHtml = 'Like what you see? Visit the ' +\n",
              "            '<a target=\"_blank\" href=https://colab.research.google.com/notebooks/data_table.ipynb>data table notebook</a>'\n",
              "            + ' to learn more about interactive tables.';\n",
              "          element.innerHTML = '';\n",
              "          dataTable['output_type'] = 'display_data';\n",
              "          await google.colab.output.renderOutput(dataTable, element);\n",
              "          const docLink = document.createElement('div');\n",
              "          docLink.innerHTML = docLinkHtml;\n",
              "          element.appendChild(docLink);\n",
              "        }\n",
              "      </script>\n",
              "    </div>\n",
              "  </div>\n",
              "  "
            ]
          },
          "metadata": {},
          "execution_count": 20
        }
      ]
    },
    {
      "metadata": {
        "id": "3y2lkxpqtduQ"
      },
      "cell_type": "markdown",
      "source": [
        "Memasukkan satu nilai ke dalam DataFrame menyebabkannya terisi di semua baris:"
      ]
    },
    {
      "metadata": {
        "trusted": true,
        "colab": {
          "base_uri": "https://localhost:8080/",
          "height": 142
        },
        "id": "qWA5rewXtduQ",
        "outputId": "8d4c96ef-85a4-4b95-e091-cafa0ca433c9"
      },
      "cell_type": "code",
      "source": [
        "df2[\"Married\"] = False\n",
        "\n",
        "df2"
      ],
      "execution_count": 21,
      "outputs": [
        {
          "output_type": "execute_result",
          "data": {
            "text/plain": [
              "       age  weight  height  siblings gender   IQ  Married\n",
              "Joe     10      75     4.5         1      M  130    False\n",
              "Bob     15     123     5.0         1      M  105    False\n",
              "Frans   20     239     6.1         1      M  115    False"
            ],
            "text/html": [
              "\n",
              "  <div id=\"df-9dcf6820-c602-4675-993f-547a9a2de9cf\">\n",
              "    <div class=\"colab-df-container\">\n",
              "      <div>\n",
              "<style scoped>\n",
              "    .dataframe tbody tr th:only-of-type {\n",
              "        vertical-align: middle;\n",
              "    }\n",
              "\n",
              "    .dataframe tbody tr th {\n",
              "        vertical-align: top;\n",
              "    }\n",
              "\n",
              "    .dataframe thead th {\n",
              "        text-align: right;\n",
              "    }\n",
              "</style>\n",
              "<table border=\"1\" class=\"dataframe\">\n",
              "  <thead>\n",
              "    <tr style=\"text-align: right;\">\n",
              "      <th></th>\n",
              "      <th>age</th>\n",
              "      <th>weight</th>\n",
              "      <th>height</th>\n",
              "      <th>siblings</th>\n",
              "      <th>gender</th>\n",
              "      <th>IQ</th>\n",
              "      <th>Married</th>\n",
              "    </tr>\n",
              "  </thead>\n",
              "  <tbody>\n",
              "    <tr>\n",
              "      <th>Joe</th>\n",
              "      <td>10</td>\n",
              "      <td>75</td>\n",
              "      <td>4.5</td>\n",
              "      <td>1</td>\n",
              "      <td>M</td>\n",
              "      <td>130</td>\n",
              "      <td>False</td>\n",
              "    </tr>\n",
              "    <tr>\n",
              "      <th>Bob</th>\n",
              "      <td>15</td>\n",
              "      <td>123</td>\n",
              "      <td>5.0</td>\n",
              "      <td>1</td>\n",
              "      <td>M</td>\n",
              "      <td>105</td>\n",
              "      <td>False</td>\n",
              "    </tr>\n",
              "    <tr>\n",
              "      <th>Frans</th>\n",
              "      <td>20</td>\n",
              "      <td>239</td>\n",
              "      <td>6.1</td>\n",
              "      <td>1</td>\n",
              "      <td>M</td>\n",
              "      <td>115</td>\n",
              "      <td>False</td>\n",
              "    </tr>\n",
              "  </tbody>\n",
              "</table>\n",
              "</div>\n",
              "      <button class=\"colab-df-convert\" onclick=\"convertToInteractive('df-9dcf6820-c602-4675-993f-547a9a2de9cf')\"\n",
              "              title=\"Convert this dataframe to an interactive table.\"\n",
              "              style=\"display:none;\">\n",
              "        \n",
              "  <svg xmlns=\"http://www.w3.org/2000/svg\" height=\"24px\"viewBox=\"0 0 24 24\"\n",
              "       width=\"24px\">\n",
              "    <path d=\"M0 0h24v24H0V0z\" fill=\"none\"/>\n",
              "    <path d=\"M18.56 5.44l.94 2.06.94-2.06 2.06-.94-2.06-.94-.94-2.06-.94 2.06-2.06.94zm-11 1L8.5 8.5l.94-2.06 2.06-.94-2.06-.94L8.5 2.5l-.94 2.06-2.06.94zm10 10l.94 2.06.94-2.06 2.06-.94-2.06-.94-.94-2.06-.94 2.06-2.06.94z\"/><path d=\"M17.41 7.96l-1.37-1.37c-.4-.4-.92-.59-1.43-.59-.52 0-1.04.2-1.43.59L10.3 9.45l-7.72 7.72c-.78.78-.78 2.05 0 2.83L4 21.41c.39.39.9.59 1.41.59.51 0 1.02-.2 1.41-.59l7.78-7.78 2.81-2.81c.8-.78.8-2.07 0-2.86zM5.41 20L4 18.59l7.72-7.72 1.47 1.35L5.41 20z\"/>\n",
              "  </svg>\n",
              "      </button>\n",
              "      \n",
              "  <style>\n",
              "    .colab-df-container {\n",
              "      display:flex;\n",
              "      flex-wrap:wrap;\n",
              "      gap: 12px;\n",
              "    }\n",
              "\n",
              "    .colab-df-convert {\n",
              "      background-color: #E8F0FE;\n",
              "      border: none;\n",
              "      border-radius: 50%;\n",
              "      cursor: pointer;\n",
              "      display: none;\n",
              "      fill: #1967D2;\n",
              "      height: 32px;\n",
              "      padding: 0 0 0 0;\n",
              "      width: 32px;\n",
              "    }\n",
              "\n",
              "    .colab-df-convert:hover {\n",
              "      background-color: #E2EBFA;\n",
              "      box-shadow: 0px 1px 2px rgba(60, 64, 67, 0.3), 0px 1px 3px 1px rgba(60, 64, 67, 0.15);\n",
              "      fill: #174EA6;\n",
              "    }\n",
              "\n",
              "    [theme=dark] .colab-df-convert {\n",
              "      background-color: #3B4455;\n",
              "      fill: #D2E3FC;\n",
              "    }\n",
              "\n",
              "    [theme=dark] .colab-df-convert:hover {\n",
              "      background-color: #434B5C;\n",
              "      box-shadow: 0px 1px 3px 1px rgba(0, 0, 0, 0.15);\n",
              "      filter: drop-shadow(0px 1px 2px rgba(0, 0, 0, 0.3));\n",
              "      fill: #FFFFFF;\n",
              "    }\n",
              "  </style>\n",
              "\n",
              "      <script>\n",
              "        const buttonEl =\n",
              "          document.querySelector('#df-9dcf6820-c602-4675-993f-547a9a2de9cf button.colab-df-convert');\n",
              "        buttonEl.style.display =\n",
              "          google.colab.kernel.accessAllowed ? 'block' : 'none';\n",
              "\n",
              "        async function convertToInteractive(key) {\n",
              "          const element = document.querySelector('#df-9dcf6820-c602-4675-993f-547a9a2de9cf');\n",
              "          const dataTable =\n",
              "            await google.colab.kernel.invokeFunction('convertToInteractive',\n",
              "                                                     [key], {});\n",
              "          if (!dataTable) return;\n",
              "\n",
              "          const docLinkHtml = 'Like what you see? Visit the ' +\n",
              "            '<a target=\"_blank\" href=https://colab.research.google.com/notebooks/data_table.ipynb>data table notebook</a>'\n",
              "            + ' to learn more about interactive tables.';\n",
              "          element.innerHTML = '';\n",
              "          dataTable['output_type'] = 'display_data';\n",
              "          await google.colab.output.renderOutput(dataTable, element);\n",
              "          const docLink = document.createElement('div');\n",
              "          docLink.innerHTML = docLinkHtml;\n",
              "          element.appendChild(docLink);\n",
              "        }\n",
              "      </script>\n",
              "    </div>\n",
              "  </div>\n",
              "  "
            ]
          },
          "metadata": {},
          "execution_count": 21
        }
      ]
    },
    {
      "metadata": {
        "id": "GKbtG7eetduQ"
      },
      "cell_type": "markdown",
      "source": [
        "Saat memasukkan Seri ke dalam DataFrame, baris dicocokkan dengan indeks. Baris yang tidak cocok akan diisi dengan NaN:"
      ]
    },
    {
      "metadata": {
        "trusted": true,
        "colab": {
          "base_uri": "https://localhost:8080/",
          "height": 142
        },
        "id": "-JawnntytduQ",
        "outputId": "413be486-4eef-48d1-9919-107136259fb2"
      },
      "cell_type": "code",
      "source": [
        "\n",
        "df2[\"College\"] = pd.Series([\"Harvard\"],\n",
        "                           index=[\"Frans\"])\n",
        "\n",
        "df2"
      ],
      "execution_count": 22,
      "outputs": [
        {
          "output_type": "execute_result",
          "data": {
            "text/plain": [
              "       age  weight  height  siblings gender   IQ  Married  College\n",
              "Joe     10      75     4.5         1      M  130    False      NaN\n",
              "Bob     15     123     5.0         1      M  105    False      NaN\n",
              "Frans   20     239     6.1         1      M  115    False  Harvard"
            ],
            "text/html": [
              "\n",
              "  <div id=\"df-dd3ab9da-7fe5-4bcd-a000-6ad7ba0ff3e5\">\n",
              "    <div class=\"colab-df-container\">\n",
              "      <div>\n",
              "<style scoped>\n",
              "    .dataframe tbody tr th:only-of-type {\n",
              "        vertical-align: middle;\n",
              "    }\n",
              "\n",
              "    .dataframe tbody tr th {\n",
              "        vertical-align: top;\n",
              "    }\n",
              "\n",
              "    .dataframe thead th {\n",
              "        text-align: right;\n",
              "    }\n",
              "</style>\n",
              "<table border=\"1\" class=\"dataframe\">\n",
              "  <thead>\n",
              "    <tr style=\"text-align: right;\">\n",
              "      <th></th>\n",
              "      <th>age</th>\n",
              "      <th>weight</th>\n",
              "      <th>height</th>\n",
              "      <th>siblings</th>\n",
              "      <th>gender</th>\n",
              "      <th>IQ</th>\n",
              "      <th>Married</th>\n",
              "      <th>College</th>\n",
              "    </tr>\n",
              "  </thead>\n",
              "  <tbody>\n",
              "    <tr>\n",
              "      <th>Joe</th>\n",
              "      <td>10</td>\n",
              "      <td>75</td>\n",
              "      <td>4.5</td>\n",
              "      <td>1</td>\n",
              "      <td>M</td>\n",
              "      <td>130</td>\n",
              "      <td>False</td>\n",
              "      <td>NaN</td>\n",
              "    </tr>\n",
              "    <tr>\n",
              "      <th>Bob</th>\n",
              "      <td>15</td>\n",
              "      <td>123</td>\n",
              "      <td>5.0</td>\n",
              "      <td>1</td>\n",
              "      <td>M</td>\n",
              "      <td>105</td>\n",
              "      <td>False</td>\n",
              "      <td>NaN</td>\n",
              "    </tr>\n",
              "    <tr>\n",
              "      <th>Frans</th>\n",
              "      <td>20</td>\n",
              "      <td>239</td>\n",
              "      <td>6.1</td>\n",
              "      <td>1</td>\n",
              "      <td>M</td>\n",
              "      <td>115</td>\n",
              "      <td>False</td>\n",
              "      <td>Harvard</td>\n",
              "    </tr>\n",
              "  </tbody>\n",
              "</table>\n",
              "</div>\n",
              "      <button class=\"colab-df-convert\" onclick=\"convertToInteractive('df-dd3ab9da-7fe5-4bcd-a000-6ad7ba0ff3e5')\"\n",
              "              title=\"Convert this dataframe to an interactive table.\"\n",
              "              style=\"display:none;\">\n",
              "        \n",
              "  <svg xmlns=\"http://www.w3.org/2000/svg\" height=\"24px\"viewBox=\"0 0 24 24\"\n",
              "       width=\"24px\">\n",
              "    <path d=\"M0 0h24v24H0V0z\" fill=\"none\"/>\n",
              "    <path d=\"M18.56 5.44l.94 2.06.94-2.06 2.06-.94-2.06-.94-.94-2.06-.94 2.06-2.06.94zm-11 1L8.5 8.5l.94-2.06 2.06-.94-2.06-.94L8.5 2.5l-.94 2.06-2.06.94zm10 10l.94 2.06.94-2.06 2.06-.94-2.06-.94-.94-2.06-.94 2.06-2.06.94z\"/><path d=\"M17.41 7.96l-1.37-1.37c-.4-.4-.92-.59-1.43-.59-.52 0-1.04.2-1.43.59L10.3 9.45l-7.72 7.72c-.78.78-.78 2.05 0 2.83L4 21.41c.39.39.9.59 1.41.59.51 0 1.02-.2 1.41-.59l7.78-7.78 2.81-2.81c.8-.78.8-2.07 0-2.86zM5.41 20L4 18.59l7.72-7.72 1.47 1.35L5.41 20z\"/>\n",
              "  </svg>\n",
              "      </button>\n",
              "      \n",
              "  <style>\n",
              "    .colab-df-container {\n",
              "      display:flex;\n",
              "      flex-wrap:wrap;\n",
              "      gap: 12px;\n",
              "    }\n",
              "\n",
              "    .colab-df-convert {\n",
              "      background-color: #E8F0FE;\n",
              "      border: none;\n",
              "      border-radius: 50%;\n",
              "      cursor: pointer;\n",
              "      display: none;\n",
              "      fill: #1967D2;\n",
              "      height: 32px;\n",
              "      padding: 0 0 0 0;\n",
              "      width: 32px;\n",
              "    }\n",
              "\n",
              "    .colab-df-convert:hover {\n",
              "      background-color: #E2EBFA;\n",
              "      box-shadow: 0px 1px 2px rgba(60, 64, 67, 0.3), 0px 1px 3px 1px rgba(60, 64, 67, 0.15);\n",
              "      fill: #174EA6;\n",
              "    }\n",
              "\n",
              "    [theme=dark] .colab-df-convert {\n",
              "      background-color: #3B4455;\n",
              "      fill: #D2E3FC;\n",
              "    }\n",
              "\n",
              "    [theme=dark] .colab-df-convert:hover {\n",
              "      background-color: #434B5C;\n",
              "      box-shadow: 0px 1px 3px 1px rgba(0, 0, 0, 0.15);\n",
              "      filter: drop-shadow(0px 1px 2px rgba(0, 0, 0, 0.3));\n",
              "      fill: #FFFFFF;\n",
              "    }\n",
              "  </style>\n",
              "\n",
              "      <script>\n",
              "        const buttonEl =\n",
              "          document.querySelector('#df-dd3ab9da-7fe5-4bcd-a000-6ad7ba0ff3e5 button.colab-df-convert');\n",
              "        buttonEl.style.display =\n",
              "          google.colab.kernel.accessAllowed ? 'block' : 'none';\n",
              "\n",
              "        async function convertToInteractive(key) {\n",
              "          const element = document.querySelector('#df-dd3ab9da-7fe5-4bcd-a000-6ad7ba0ff3e5');\n",
              "          const dataTable =\n",
              "            await google.colab.kernel.invokeFunction('convertToInteractive',\n",
              "                                                     [key], {});\n",
              "          if (!dataTable) return;\n",
              "\n",
              "          const docLinkHtml = 'Like what you see? Visit the ' +\n",
              "            '<a target=\"_blank\" href=https://colab.research.google.com/notebooks/data_table.ipynb>data table notebook</a>'\n",
              "            + ' to learn more about interactive tables.';\n",
              "          element.innerHTML = '';\n",
              "          dataTable['output_type'] = 'display_data';\n",
              "          await google.colab.output.renderOutput(dataTable, element);\n",
              "          const docLink = document.createElement('div');\n",
              "          docLink.innerHTML = docLinkHtml;\n",
              "          element.appendChild(docLink);\n",
              "        }\n",
              "      </script>\n",
              "    </div>\n",
              "  </div>\n",
              "  "
            ]
          },
          "metadata": {},
          "execution_count": 22
        }
      ]
    },
    {
      "metadata": {
        "id": "b1G2_m5ztduR"
      },
      "cell_type": "markdown",
      "source": [
        "Anda dapat memilih baris atau kolom dengan label dengan df.loc[row, column]:"
      ]
    },
    {
      "metadata": {
        "trusted": true,
        "colab": {
          "base_uri": "https://localhost:8080/"
        },
        "id": "O3HUmxiStduR",
        "outputId": "85bf7cbe-b122-4dbc-ecf4-ed26bbf9ad03"
      },
      "cell_type": "code",
      "source": [
        "df2.loc[\"Joe\"]          # Select row \"Joe\""
      ],
      "execution_count": 23,
      "outputs": [
        {
          "output_type": "execute_result",
          "data": {
            "text/plain": [
              "age            10\n",
              "weight         75\n",
              "height        4.5\n",
              "siblings        1\n",
              "gender          M\n",
              "IQ            130\n",
              "Married     False\n",
              "College       NaN\n",
              "Name: Joe, dtype: object"
            ]
          },
          "metadata": {},
          "execution_count": 23
        }
      ]
    },
    {
      "metadata": {
        "trusted": true,
        "colab": {
          "base_uri": "https://localhost:8080/"
        },
        "id": "TMc1hUGOtduR",
        "outputId": "15edafa8-271f-44d8-bb07-cd5a79c6c760"
      },
      "cell_type": "code",
      "source": [
        "df2.loc[\"Joe\",\"IQ\"]     # Select row \"Joe\" and column \"IQ\""
      ],
      "execution_count": 24,
      "outputs": [
        {
          "output_type": "execute_result",
          "data": {
            "text/plain": [
              "130"
            ]
          },
          "metadata": {},
          "execution_count": 24
        }
      ]
    },
    {
      "metadata": {
        "trusted": true,
        "colab": {
          "base_uri": "https://localhost:8080/",
          "height": 111
        },
        "id": "ltXk1slOtduR",
        "outputId": "e31a664d-1f1b-4e0a-c76a-755e99a421b8"
      },
      "cell_type": "code",
      "source": [
        "df2.loc[\"Joe\":\"Bob\" , \"IQ\":\"College\"]   # Slice by label"
      ],
      "execution_count": 25,
      "outputs": [
        {
          "output_type": "execute_result",
          "data": {
            "text/plain": [
              "      IQ  Married College\n",
              "Joe  130    False     NaN\n",
              "Bob  105    False     NaN"
            ],
            "text/html": [
              "\n",
              "  <div id=\"df-27dd60b1-3b53-4604-862c-b610b7b577c8\">\n",
              "    <div class=\"colab-df-container\">\n",
              "      <div>\n",
              "<style scoped>\n",
              "    .dataframe tbody tr th:only-of-type {\n",
              "        vertical-align: middle;\n",
              "    }\n",
              "\n",
              "    .dataframe tbody tr th {\n",
              "        vertical-align: top;\n",
              "    }\n",
              "\n",
              "    .dataframe thead th {\n",
              "        text-align: right;\n",
              "    }\n",
              "</style>\n",
              "<table border=\"1\" class=\"dataframe\">\n",
              "  <thead>\n",
              "    <tr style=\"text-align: right;\">\n",
              "      <th></th>\n",
              "      <th>IQ</th>\n",
              "      <th>Married</th>\n",
              "      <th>College</th>\n",
              "    </tr>\n",
              "  </thead>\n",
              "  <tbody>\n",
              "    <tr>\n",
              "      <th>Joe</th>\n",
              "      <td>130</td>\n",
              "      <td>False</td>\n",
              "      <td>NaN</td>\n",
              "    </tr>\n",
              "    <tr>\n",
              "      <th>Bob</th>\n",
              "      <td>105</td>\n",
              "      <td>False</td>\n",
              "      <td>NaN</td>\n",
              "    </tr>\n",
              "  </tbody>\n",
              "</table>\n",
              "</div>\n",
              "      <button class=\"colab-df-convert\" onclick=\"convertToInteractive('df-27dd60b1-3b53-4604-862c-b610b7b577c8')\"\n",
              "              title=\"Convert this dataframe to an interactive table.\"\n",
              "              style=\"display:none;\">\n",
              "        \n",
              "  <svg xmlns=\"http://www.w3.org/2000/svg\" height=\"24px\"viewBox=\"0 0 24 24\"\n",
              "       width=\"24px\">\n",
              "    <path d=\"M0 0h24v24H0V0z\" fill=\"none\"/>\n",
              "    <path d=\"M18.56 5.44l.94 2.06.94-2.06 2.06-.94-2.06-.94-.94-2.06-.94 2.06-2.06.94zm-11 1L8.5 8.5l.94-2.06 2.06-.94-2.06-.94L8.5 2.5l-.94 2.06-2.06.94zm10 10l.94 2.06.94-2.06 2.06-.94-2.06-.94-.94-2.06-.94 2.06-2.06.94z\"/><path d=\"M17.41 7.96l-1.37-1.37c-.4-.4-.92-.59-1.43-.59-.52 0-1.04.2-1.43.59L10.3 9.45l-7.72 7.72c-.78.78-.78 2.05 0 2.83L4 21.41c.39.39.9.59 1.41.59.51 0 1.02-.2 1.41-.59l7.78-7.78 2.81-2.81c.8-.78.8-2.07 0-2.86zM5.41 20L4 18.59l7.72-7.72 1.47 1.35L5.41 20z\"/>\n",
              "  </svg>\n",
              "      </button>\n",
              "      \n",
              "  <style>\n",
              "    .colab-df-container {\n",
              "      display:flex;\n",
              "      flex-wrap:wrap;\n",
              "      gap: 12px;\n",
              "    }\n",
              "\n",
              "    .colab-df-convert {\n",
              "      background-color: #E8F0FE;\n",
              "      border: none;\n",
              "      border-radius: 50%;\n",
              "      cursor: pointer;\n",
              "      display: none;\n",
              "      fill: #1967D2;\n",
              "      height: 32px;\n",
              "      padding: 0 0 0 0;\n",
              "      width: 32px;\n",
              "    }\n",
              "\n",
              "    .colab-df-convert:hover {\n",
              "      background-color: #E2EBFA;\n",
              "      box-shadow: 0px 1px 2px rgba(60, 64, 67, 0.3), 0px 1px 3px 1px rgba(60, 64, 67, 0.15);\n",
              "      fill: #174EA6;\n",
              "    }\n",
              "\n",
              "    [theme=dark] .colab-df-convert {\n",
              "      background-color: #3B4455;\n",
              "      fill: #D2E3FC;\n",
              "    }\n",
              "\n",
              "    [theme=dark] .colab-df-convert:hover {\n",
              "      background-color: #434B5C;\n",
              "      box-shadow: 0px 1px 3px 1px rgba(0, 0, 0, 0.15);\n",
              "      filter: drop-shadow(0px 1px 2px rgba(0, 0, 0, 0.3));\n",
              "      fill: #FFFFFF;\n",
              "    }\n",
              "  </style>\n",
              "\n",
              "      <script>\n",
              "        const buttonEl =\n",
              "          document.querySelector('#df-27dd60b1-3b53-4604-862c-b610b7b577c8 button.colab-df-convert');\n",
              "        buttonEl.style.display =\n",
              "          google.colab.kernel.accessAllowed ? 'block' : 'none';\n",
              "\n",
              "        async function convertToInteractive(key) {\n",
              "          const element = document.querySelector('#df-27dd60b1-3b53-4604-862c-b610b7b577c8');\n",
              "          const dataTable =\n",
              "            await google.colab.kernel.invokeFunction('convertToInteractive',\n",
              "                                                     [key], {});\n",
              "          if (!dataTable) return;\n",
              "\n",
              "          const docLinkHtml = 'Like what you see? Visit the ' +\n",
              "            '<a target=\"_blank\" href=https://colab.research.google.com/notebooks/data_table.ipynb>data table notebook</a>'\n",
              "            + ' to learn more about interactive tables.';\n",
              "          element.innerHTML = '';\n",
              "          dataTable['output_type'] = 'display_data';\n",
              "          await google.colab.output.renderOutput(dataTable, element);\n",
              "          const docLink = document.createElement('div');\n",
              "          docLink.innerHTML = docLinkHtml;\n",
              "          element.appendChild(docLink);\n",
              "        }\n",
              "      </script>\n",
              "    </div>\n",
              "  </div>\n",
              "  "
            ]
          },
          "metadata": {},
          "execution_count": 25
        }
      ]
    },
    {
      "metadata": {
        "id": "JUlgPo8rtduR"
      },
      "cell_type": "markdown",
      "source": [
        "Select rows or columns by numeric index with df.iloc[row, column]:"
      ]
    },
    {
      "metadata": {
        "trusted": true,
        "colab": {
          "base_uri": "https://localhost:8080/"
        },
        "id": "kBYvd5T8tduR",
        "outputId": "795193c9-50e2-4e3b-fccc-1ae09b97f7bd"
      },
      "cell_type": "code",
      "source": [
        "df2.iloc[0]          # Get row 0"
      ],
      "execution_count": 26,
      "outputs": [
        {
          "output_type": "execute_result",
          "data": {
            "text/plain": [
              "age            10\n",
              "weight         75\n",
              "height        4.5\n",
              "siblings        1\n",
              "gender          M\n",
              "IQ            130\n",
              "Married     False\n",
              "College       NaN\n",
              "Name: Joe, dtype: object"
            ]
          },
          "metadata": {},
          "execution_count": 26
        }
      ]
    },
    {
      "metadata": {
        "trusted": true,
        "colab": {
          "base_uri": "https://localhost:8080/"
        },
        "id": "zy5I3VM8tduS",
        "outputId": "6d7827b2-a8ee-4a33-c94e-ba2bc1b727fc"
      },
      "cell_type": "code",
      "source": [
        "df2.iloc[0, 5]       # Get row 0, column 5"
      ],
      "execution_count": 27,
      "outputs": [
        {
          "output_type": "execute_result",
          "data": {
            "text/plain": [
              "130"
            ]
          },
          "metadata": {},
          "execution_count": 27
        }
      ]
    },
    {
      "metadata": {
        "trusted": true,
        "colab": {
          "base_uri": "https://localhost:8080/",
          "height": 111
        },
        "id": "TvrwdiIhtduS",
        "outputId": "9ae77fc2-9465-49b6-d7a4-e083ac2d4fa5"
      },
      "cell_type": "code",
      "source": [
        "df2.iloc[0:2, 5:8]   # Slice by numeric row and column index"
      ],
      "execution_count": 28,
      "outputs": [
        {
          "output_type": "execute_result",
          "data": {
            "text/plain": [
              "      IQ  Married College\n",
              "Joe  130    False     NaN\n",
              "Bob  105    False     NaN"
            ],
            "text/html": [
              "\n",
              "  <div id=\"df-3da1b709-e82b-46f4-adaa-2a417d220df3\">\n",
              "    <div class=\"colab-df-container\">\n",
              "      <div>\n",
              "<style scoped>\n",
              "    .dataframe tbody tr th:only-of-type {\n",
              "        vertical-align: middle;\n",
              "    }\n",
              "\n",
              "    .dataframe tbody tr th {\n",
              "        vertical-align: top;\n",
              "    }\n",
              "\n",
              "    .dataframe thead th {\n",
              "        text-align: right;\n",
              "    }\n",
              "</style>\n",
              "<table border=\"1\" class=\"dataframe\">\n",
              "  <thead>\n",
              "    <tr style=\"text-align: right;\">\n",
              "      <th></th>\n",
              "      <th>IQ</th>\n",
              "      <th>Married</th>\n",
              "      <th>College</th>\n",
              "    </tr>\n",
              "  </thead>\n",
              "  <tbody>\n",
              "    <tr>\n",
              "      <th>Joe</th>\n",
              "      <td>130</td>\n",
              "      <td>False</td>\n",
              "      <td>NaN</td>\n",
              "    </tr>\n",
              "    <tr>\n",
              "      <th>Bob</th>\n",
              "      <td>105</td>\n",
              "      <td>False</td>\n",
              "      <td>NaN</td>\n",
              "    </tr>\n",
              "  </tbody>\n",
              "</table>\n",
              "</div>\n",
              "      <button class=\"colab-df-convert\" onclick=\"convertToInteractive('df-3da1b709-e82b-46f4-adaa-2a417d220df3')\"\n",
              "              title=\"Convert this dataframe to an interactive table.\"\n",
              "              style=\"display:none;\">\n",
              "        \n",
              "  <svg xmlns=\"http://www.w3.org/2000/svg\" height=\"24px\"viewBox=\"0 0 24 24\"\n",
              "       width=\"24px\">\n",
              "    <path d=\"M0 0h24v24H0V0z\" fill=\"none\"/>\n",
              "    <path d=\"M18.56 5.44l.94 2.06.94-2.06 2.06-.94-2.06-.94-.94-2.06-.94 2.06-2.06.94zm-11 1L8.5 8.5l.94-2.06 2.06-.94-2.06-.94L8.5 2.5l-.94 2.06-2.06.94zm10 10l.94 2.06.94-2.06 2.06-.94-2.06-.94-.94-2.06-.94 2.06-2.06.94z\"/><path d=\"M17.41 7.96l-1.37-1.37c-.4-.4-.92-.59-1.43-.59-.52 0-1.04.2-1.43.59L10.3 9.45l-7.72 7.72c-.78.78-.78 2.05 0 2.83L4 21.41c.39.39.9.59 1.41.59.51 0 1.02-.2 1.41-.59l7.78-7.78 2.81-2.81c.8-.78.8-2.07 0-2.86zM5.41 20L4 18.59l7.72-7.72 1.47 1.35L5.41 20z\"/>\n",
              "  </svg>\n",
              "      </button>\n",
              "      \n",
              "  <style>\n",
              "    .colab-df-container {\n",
              "      display:flex;\n",
              "      flex-wrap:wrap;\n",
              "      gap: 12px;\n",
              "    }\n",
              "\n",
              "    .colab-df-convert {\n",
              "      background-color: #E8F0FE;\n",
              "      border: none;\n",
              "      border-radius: 50%;\n",
              "      cursor: pointer;\n",
              "      display: none;\n",
              "      fill: #1967D2;\n",
              "      height: 32px;\n",
              "      padding: 0 0 0 0;\n",
              "      width: 32px;\n",
              "    }\n",
              "\n",
              "    .colab-df-convert:hover {\n",
              "      background-color: #E2EBFA;\n",
              "      box-shadow: 0px 1px 2px rgba(60, 64, 67, 0.3), 0px 1px 3px 1px rgba(60, 64, 67, 0.15);\n",
              "      fill: #174EA6;\n",
              "    }\n",
              "\n",
              "    [theme=dark] .colab-df-convert {\n",
              "      background-color: #3B4455;\n",
              "      fill: #D2E3FC;\n",
              "    }\n",
              "\n",
              "    [theme=dark] .colab-df-convert:hover {\n",
              "      background-color: #434B5C;\n",
              "      box-shadow: 0px 1px 3px 1px rgba(0, 0, 0, 0.15);\n",
              "      filter: drop-shadow(0px 1px 2px rgba(0, 0, 0, 0.3));\n",
              "      fill: #FFFFFF;\n",
              "    }\n",
              "  </style>\n",
              "\n",
              "      <script>\n",
              "        const buttonEl =\n",
              "          document.querySelector('#df-3da1b709-e82b-46f4-adaa-2a417d220df3 button.colab-df-convert');\n",
              "        buttonEl.style.display =\n",
              "          google.colab.kernel.accessAllowed ? 'block' : 'none';\n",
              "\n",
              "        async function convertToInteractive(key) {\n",
              "          const element = document.querySelector('#df-3da1b709-e82b-46f4-adaa-2a417d220df3');\n",
              "          const dataTable =\n",
              "            await google.colab.kernel.invokeFunction('convertToInteractive',\n",
              "                                                     [key], {});\n",
              "          if (!dataTable) return;\n",
              "\n",
              "          const docLinkHtml = 'Like what you see? Visit the ' +\n",
              "            '<a target=\"_blank\" href=https://colab.research.google.com/notebooks/data_table.ipynb>data table notebook</a>'\n",
              "            + ' to learn more about interactive tables.';\n",
              "          element.innerHTML = '';\n",
              "          dataTable['output_type'] = 'display_data';\n",
              "          await google.colab.output.renderOutput(dataTable, element);\n",
              "          const docLink = document.createElement('div');\n",
              "          docLink.innerHTML = docLinkHtml;\n",
              "          element.appendChild(docLink);\n",
              "        }\n",
              "      </script>\n",
              "    </div>\n",
              "  </div>\n",
              "  "
            ]
          },
          "metadata": {},
          "execution_count": 28
        }
      ]
    },
    {
      "metadata": {
        "id": "TWBzMTGBtduS"
      },
      "cell_type": "markdown",
      "source": [
        "Anda juga dapat memilih baris dengan meneruskan nilai boolean(Benar/Salah) urutan. Baris di mana boolean yang sesuai adalah True dikembalikan:"
      ]
    },
    {
      "metadata": {
        "trusted": true,
        "colab": {
          "base_uri": "https://localhost:8080/",
          "height": 111
        },
        "id": "VFrhl7xitduS",
        "outputId": "83b355e9-6ec8-488b-a62d-3084f47b462e"
      },
      "cell_type": "code",
      "source": [
        "boolean_index = [False, True, True]  \n",
        "\n",
        "df2[boolean_index] "
      ],
      "execution_count": 29,
      "outputs": [
        {
          "output_type": "execute_result",
          "data": {
            "text/plain": [
              "       age  weight  height  siblings gender   IQ  Married  College\n",
              "Bob     15     123     5.0         1      M  105    False      NaN\n",
              "Frans   20     239     6.1         1      M  115    False  Harvard"
            ],
            "text/html": [
              "\n",
              "  <div id=\"df-6d735b93-1d63-48ca-9fee-04df9305406f\">\n",
              "    <div class=\"colab-df-container\">\n",
              "      <div>\n",
              "<style scoped>\n",
              "    .dataframe tbody tr th:only-of-type {\n",
              "        vertical-align: middle;\n",
              "    }\n",
              "\n",
              "    .dataframe tbody tr th {\n",
              "        vertical-align: top;\n",
              "    }\n",
              "\n",
              "    .dataframe thead th {\n",
              "        text-align: right;\n",
              "    }\n",
              "</style>\n",
              "<table border=\"1\" class=\"dataframe\">\n",
              "  <thead>\n",
              "    <tr style=\"text-align: right;\">\n",
              "      <th></th>\n",
              "      <th>age</th>\n",
              "      <th>weight</th>\n",
              "      <th>height</th>\n",
              "      <th>siblings</th>\n",
              "      <th>gender</th>\n",
              "      <th>IQ</th>\n",
              "      <th>Married</th>\n",
              "      <th>College</th>\n",
              "    </tr>\n",
              "  </thead>\n",
              "  <tbody>\n",
              "    <tr>\n",
              "      <th>Bob</th>\n",
              "      <td>15</td>\n",
              "      <td>123</td>\n",
              "      <td>5.0</td>\n",
              "      <td>1</td>\n",
              "      <td>M</td>\n",
              "      <td>105</td>\n",
              "      <td>False</td>\n",
              "      <td>NaN</td>\n",
              "    </tr>\n",
              "    <tr>\n",
              "      <th>Frans</th>\n",
              "      <td>20</td>\n",
              "      <td>239</td>\n",
              "      <td>6.1</td>\n",
              "      <td>1</td>\n",
              "      <td>M</td>\n",
              "      <td>115</td>\n",
              "      <td>False</td>\n",
              "      <td>Harvard</td>\n",
              "    </tr>\n",
              "  </tbody>\n",
              "</table>\n",
              "</div>\n",
              "      <button class=\"colab-df-convert\" onclick=\"convertToInteractive('df-6d735b93-1d63-48ca-9fee-04df9305406f')\"\n",
              "              title=\"Convert this dataframe to an interactive table.\"\n",
              "              style=\"display:none;\">\n",
              "        \n",
              "  <svg xmlns=\"http://www.w3.org/2000/svg\" height=\"24px\"viewBox=\"0 0 24 24\"\n",
              "       width=\"24px\">\n",
              "    <path d=\"M0 0h24v24H0V0z\" fill=\"none\"/>\n",
              "    <path d=\"M18.56 5.44l.94 2.06.94-2.06 2.06-.94-2.06-.94-.94-2.06-.94 2.06-2.06.94zm-11 1L8.5 8.5l.94-2.06 2.06-.94-2.06-.94L8.5 2.5l-.94 2.06-2.06.94zm10 10l.94 2.06.94-2.06 2.06-.94-2.06-.94-.94-2.06-.94 2.06-2.06.94z\"/><path d=\"M17.41 7.96l-1.37-1.37c-.4-.4-.92-.59-1.43-.59-.52 0-1.04.2-1.43.59L10.3 9.45l-7.72 7.72c-.78.78-.78 2.05 0 2.83L4 21.41c.39.39.9.59 1.41.59.51 0 1.02-.2 1.41-.59l7.78-7.78 2.81-2.81c.8-.78.8-2.07 0-2.86zM5.41 20L4 18.59l7.72-7.72 1.47 1.35L5.41 20z\"/>\n",
              "  </svg>\n",
              "      </button>\n",
              "      \n",
              "  <style>\n",
              "    .colab-df-container {\n",
              "      display:flex;\n",
              "      flex-wrap:wrap;\n",
              "      gap: 12px;\n",
              "    }\n",
              "\n",
              "    .colab-df-convert {\n",
              "      background-color: #E8F0FE;\n",
              "      border: none;\n",
              "      border-radius: 50%;\n",
              "      cursor: pointer;\n",
              "      display: none;\n",
              "      fill: #1967D2;\n",
              "      height: 32px;\n",
              "      padding: 0 0 0 0;\n",
              "      width: 32px;\n",
              "    }\n",
              "\n",
              "    .colab-df-convert:hover {\n",
              "      background-color: #E2EBFA;\n",
              "      box-shadow: 0px 1px 2px rgba(60, 64, 67, 0.3), 0px 1px 3px 1px rgba(60, 64, 67, 0.15);\n",
              "      fill: #174EA6;\n",
              "    }\n",
              "\n",
              "    [theme=dark] .colab-df-convert {\n",
              "      background-color: #3B4455;\n",
              "      fill: #D2E3FC;\n",
              "    }\n",
              "\n",
              "    [theme=dark] .colab-df-convert:hover {\n",
              "      background-color: #434B5C;\n",
              "      box-shadow: 0px 1px 3px 1px rgba(0, 0, 0, 0.15);\n",
              "      filter: drop-shadow(0px 1px 2px rgba(0, 0, 0, 0.3));\n",
              "      fill: #FFFFFF;\n",
              "    }\n",
              "  </style>\n",
              "\n",
              "      <script>\n",
              "        const buttonEl =\n",
              "          document.querySelector('#df-6d735b93-1d63-48ca-9fee-04df9305406f button.colab-df-convert');\n",
              "        buttonEl.style.display =\n",
              "          google.colab.kernel.accessAllowed ? 'block' : 'none';\n",
              "\n",
              "        async function convertToInteractive(key) {\n",
              "          const element = document.querySelector('#df-6d735b93-1d63-48ca-9fee-04df9305406f');\n",
              "          const dataTable =\n",
              "            await google.colab.kernel.invokeFunction('convertToInteractive',\n",
              "                                                     [key], {});\n",
              "          if (!dataTable) return;\n",
              "\n",
              "          const docLinkHtml = 'Like what you see? Visit the ' +\n",
              "            '<a target=\"_blank\" href=https://colab.research.google.com/notebooks/data_table.ipynb>data table notebook</a>'\n",
              "            + ' to learn more about interactive tables.';\n",
              "          element.innerHTML = '';\n",
              "          dataTable['output_type'] = 'display_data';\n",
              "          await google.colab.output.renderOutput(dataTable, element);\n",
              "          const docLink = document.createElement('div');\n",
              "          docLink.innerHTML = docLinkHtml;\n",
              "          element.appendChild(docLink);\n",
              "        }\n",
              "      </script>\n",
              "    </div>\n",
              "  </div>\n",
              "  "
            ]
          },
          "metadata": {},
          "execution_count": 29
        }
      ]
    },
    {
      "metadata": {
        "id": "pZI1j9BEtduS"
      },
      "cell_type": "markdown",
      "source": [
        "Jenis pengindeksan True/False logis ini berguna untuk mensubset data saat digabungkan dengan operasi logis. Misalnya, kami ingin mendapatkan subset DataFrame kami dengan semua orang yang berusia di atas 12 tahun. Kita bisa melakukannya dengan pengindeksan boolean:"
      ]
    },
    {
      "metadata": {
        "trusted": true,
        "colab": {
          "base_uri": "https://localhost:8080/",
          "height": 111
        },
        "id": "xyQTTcw-tduS",
        "outputId": "7b65c777-a2d1-4ed2-8317-7e89be9b1ab4"
      },
      "cell_type": "code",
      "source": [
        "# Create a boolean sequence with a logical comparison\n",
        "boolean_index = df2[\"age\"] > 12\n",
        "\n",
        "# Use the index to get the rows where age > 12\n",
        "df2[boolean_index]"
      ],
      "execution_count": 30,
      "outputs": [
        {
          "output_type": "execute_result",
          "data": {
            "text/plain": [
              "       age  weight  height  siblings gender   IQ  Married  College\n",
              "Bob     15     123     5.0         1      M  105    False      NaN\n",
              "Frans   20     239     6.1         1      M  115    False  Harvard"
            ],
            "text/html": [
              "\n",
              "  <div id=\"df-e6120fd6-d5f4-46a7-bd91-c88b6bd85895\">\n",
              "    <div class=\"colab-df-container\">\n",
              "      <div>\n",
              "<style scoped>\n",
              "    .dataframe tbody tr th:only-of-type {\n",
              "        vertical-align: middle;\n",
              "    }\n",
              "\n",
              "    .dataframe tbody tr th {\n",
              "        vertical-align: top;\n",
              "    }\n",
              "\n",
              "    .dataframe thead th {\n",
              "        text-align: right;\n",
              "    }\n",
              "</style>\n",
              "<table border=\"1\" class=\"dataframe\">\n",
              "  <thead>\n",
              "    <tr style=\"text-align: right;\">\n",
              "      <th></th>\n",
              "      <th>age</th>\n",
              "      <th>weight</th>\n",
              "      <th>height</th>\n",
              "      <th>siblings</th>\n",
              "      <th>gender</th>\n",
              "      <th>IQ</th>\n",
              "      <th>Married</th>\n",
              "      <th>College</th>\n",
              "    </tr>\n",
              "  </thead>\n",
              "  <tbody>\n",
              "    <tr>\n",
              "      <th>Bob</th>\n",
              "      <td>15</td>\n",
              "      <td>123</td>\n",
              "      <td>5.0</td>\n",
              "      <td>1</td>\n",
              "      <td>M</td>\n",
              "      <td>105</td>\n",
              "      <td>False</td>\n",
              "      <td>NaN</td>\n",
              "    </tr>\n",
              "    <tr>\n",
              "      <th>Frans</th>\n",
              "      <td>20</td>\n",
              "      <td>239</td>\n",
              "      <td>6.1</td>\n",
              "      <td>1</td>\n",
              "      <td>M</td>\n",
              "      <td>115</td>\n",
              "      <td>False</td>\n",
              "      <td>Harvard</td>\n",
              "    </tr>\n",
              "  </tbody>\n",
              "</table>\n",
              "</div>\n",
              "      <button class=\"colab-df-convert\" onclick=\"convertToInteractive('df-e6120fd6-d5f4-46a7-bd91-c88b6bd85895')\"\n",
              "              title=\"Convert this dataframe to an interactive table.\"\n",
              "              style=\"display:none;\">\n",
              "        \n",
              "  <svg xmlns=\"http://www.w3.org/2000/svg\" height=\"24px\"viewBox=\"0 0 24 24\"\n",
              "       width=\"24px\">\n",
              "    <path d=\"M0 0h24v24H0V0z\" fill=\"none\"/>\n",
              "    <path d=\"M18.56 5.44l.94 2.06.94-2.06 2.06-.94-2.06-.94-.94-2.06-.94 2.06-2.06.94zm-11 1L8.5 8.5l.94-2.06 2.06-.94-2.06-.94L8.5 2.5l-.94 2.06-2.06.94zm10 10l.94 2.06.94-2.06 2.06-.94-2.06-.94-.94-2.06-.94 2.06-2.06.94z\"/><path d=\"M17.41 7.96l-1.37-1.37c-.4-.4-.92-.59-1.43-.59-.52 0-1.04.2-1.43.59L10.3 9.45l-7.72 7.72c-.78.78-.78 2.05 0 2.83L4 21.41c.39.39.9.59 1.41.59.51 0 1.02-.2 1.41-.59l7.78-7.78 2.81-2.81c.8-.78.8-2.07 0-2.86zM5.41 20L4 18.59l7.72-7.72 1.47 1.35L5.41 20z\"/>\n",
              "  </svg>\n",
              "      </button>\n",
              "      \n",
              "  <style>\n",
              "    .colab-df-container {\n",
              "      display:flex;\n",
              "      flex-wrap:wrap;\n",
              "      gap: 12px;\n",
              "    }\n",
              "\n",
              "    .colab-df-convert {\n",
              "      background-color: #E8F0FE;\n",
              "      border: none;\n",
              "      border-radius: 50%;\n",
              "      cursor: pointer;\n",
              "      display: none;\n",
              "      fill: #1967D2;\n",
              "      height: 32px;\n",
              "      padding: 0 0 0 0;\n",
              "      width: 32px;\n",
              "    }\n",
              "\n",
              "    .colab-df-convert:hover {\n",
              "      background-color: #E2EBFA;\n",
              "      box-shadow: 0px 1px 2px rgba(60, 64, 67, 0.3), 0px 1px 3px 1px rgba(60, 64, 67, 0.15);\n",
              "      fill: #174EA6;\n",
              "    }\n",
              "\n",
              "    [theme=dark] .colab-df-convert {\n",
              "      background-color: #3B4455;\n",
              "      fill: #D2E3FC;\n",
              "    }\n",
              "\n",
              "    [theme=dark] .colab-df-convert:hover {\n",
              "      background-color: #434B5C;\n",
              "      box-shadow: 0px 1px 3px 1px rgba(0, 0, 0, 0.15);\n",
              "      filter: drop-shadow(0px 1px 2px rgba(0, 0, 0, 0.3));\n",
              "      fill: #FFFFFF;\n",
              "    }\n",
              "  </style>\n",
              "\n",
              "      <script>\n",
              "        const buttonEl =\n",
              "          document.querySelector('#df-e6120fd6-d5f4-46a7-bd91-c88b6bd85895 button.colab-df-convert');\n",
              "        buttonEl.style.display =\n",
              "          google.colab.kernel.accessAllowed ? 'block' : 'none';\n",
              "\n",
              "        async function convertToInteractive(key) {\n",
              "          const element = document.querySelector('#df-e6120fd6-d5f4-46a7-bd91-c88b6bd85895');\n",
              "          const dataTable =\n",
              "            await google.colab.kernel.invokeFunction('convertToInteractive',\n",
              "                                                     [key], {});\n",
              "          if (!dataTable) return;\n",
              "\n",
              "          const docLinkHtml = 'Like what you see? Visit the ' +\n",
              "            '<a target=\"_blank\" href=https://colab.research.google.com/notebooks/data_table.ipynb>data table notebook</a>'\n",
              "            + ' to learn more about interactive tables.';\n",
              "          element.innerHTML = '';\n",
              "          dataTable['output_type'] = 'display_data';\n",
              "          await google.colab.output.renderOutput(dataTable, element);\n",
              "          const docLink = document.createElement('div');\n",
              "          docLink.innerHTML = docLinkHtml;\n",
              "          element.appendChild(docLink);\n",
              "        }\n",
              "      </script>\n",
              "    </div>\n",
              "  </div>\n",
              "  "
            ]
          },
          "metadata": {},
          "execution_count": 30
        }
      ]
    },
    {
      "metadata": {
        "id": "g9jkkNaVtduS"
      },
      "cell_type": "markdown",
      "source": [
        "Anda dapat melakukan pengindeksan semacam ini dalam satu operasi tanpa menetapkan urutan boolean ke variabel:"
      ]
    },
    {
      "metadata": {
        "trusted": true,
        "colab": {
          "base_uri": "https://localhost:8080/",
          "height": 111
        },
        "id": "sT6g5Bf6tduS",
        "outputId": "25353486-2eff-4fe8-9b0d-d4ffb488e73a"
      },
      "cell_type": "code",
      "source": [
        "df2[ df2[\"age\"] > 12 ]"
      ],
      "execution_count": 31,
      "outputs": [
        {
          "output_type": "execute_result",
          "data": {
            "text/plain": [
              "       age  weight  height  siblings gender   IQ  Married  College\n",
              "Bob     15     123     5.0         1      M  105    False      NaN\n",
              "Frans   20     239     6.1         1      M  115    False  Harvard"
            ],
            "text/html": [
              "\n",
              "  <div id=\"df-ad4f686e-8b92-4864-94f2-4cc343e56af6\">\n",
              "    <div class=\"colab-df-container\">\n",
              "      <div>\n",
              "<style scoped>\n",
              "    .dataframe tbody tr th:only-of-type {\n",
              "        vertical-align: middle;\n",
              "    }\n",
              "\n",
              "    .dataframe tbody tr th {\n",
              "        vertical-align: top;\n",
              "    }\n",
              "\n",
              "    .dataframe thead th {\n",
              "        text-align: right;\n",
              "    }\n",
              "</style>\n",
              "<table border=\"1\" class=\"dataframe\">\n",
              "  <thead>\n",
              "    <tr style=\"text-align: right;\">\n",
              "      <th></th>\n",
              "      <th>age</th>\n",
              "      <th>weight</th>\n",
              "      <th>height</th>\n",
              "      <th>siblings</th>\n",
              "      <th>gender</th>\n",
              "      <th>IQ</th>\n",
              "      <th>Married</th>\n",
              "      <th>College</th>\n",
              "    </tr>\n",
              "  </thead>\n",
              "  <tbody>\n",
              "    <tr>\n",
              "      <th>Bob</th>\n",
              "      <td>15</td>\n",
              "      <td>123</td>\n",
              "      <td>5.0</td>\n",
              "      <td>1</td>\n",
              "      <td>M</td>\n",
              "      <td>105</td>\n",
              "      <td>False</td>\n",
              "      <td>NaN</td>\n",
              "    </tr>\n",
              "    <tr>\n",
              "      <th>Frans</th>\n",
              "      <td>20</td>\n",
              "      <td>239</td>\n",
              "      <td>6.1</td>\n",
              "      <td>1</td>\n",
              "      <td>M</td>\n",
              "      <td>115</td>\n",
              "      <td>False</td>\n",
              "      <td>Harvard</td>\n",
              "    </tr>\n",
              "  </tbody>\n",
              "</table>\n",
              "</div>\n",
              "      <button class=\"colab-df-convert\" onclick=\"convertToInteractive('df-ad4f686e-8b92-4864-94f2-4cc343e56af6')\"\n",
              "              title=\"Convert this dataframe to an interactive table.\"\n",
              "              style=\"display:none;\">\n",
              "        \n",
              "  <svg xmlns=\"http://www.w3.org/2000/svg\" height=\"24px\"viewBox=\"0 0 24 24\"\n",
              "       width=\"24px\">\n",
              "    <path d=\"M0 0h24v24H0V0z\" fill=\"none\"/>\n",
              "    <path d=\"M18.56 5.44l.94 2.06.94-2.06 2.06-.94-2.06-.94-.94-2.06-.94 2.06-2.06.94zm-11 1L8.5 8.5l.94-2.06 2.06-.94-2.06-.94L8.5 2.5l-.94 2.06-2.06.94zm10 10l.94 2.06.94-2.06 2.06-.94-2.06-.94-.94-2.06-.94 2.06-2.06.94z\"/><path d=\"M17.41 7.96l-1.37-1.37c-.4-.4-.92-.59-1.43-.59-.52 0-1.04.2-1.43.59L10.3 9.45l-7.72 7.72c-.78.78-.78 2.05 0 2.83L4 21.41c.39.39.9.59 1.41.59.51 0 1.02-.2 1.41-.59l7.78-7.78 2.81-2.81c.8-.78.8-2.07 0-2.86zM5.41 20L4 18.59l7.72-7.72 1.47 1.35L5.41 20z\"/>\n",
              "  </svg>\n",
              "      </button>\n",
              "      \n",
              "  <style>\n",
              "    .colab-df-container {\n",
              "      display:flex;\n",
              "      flex-wrap:wrap;\n",
              "      gap: 12px;\n",
              "    }\n",
              "\n",
              "    .colab-df-convert {\n",
              "      background-color: #E8F0FE;\n",
              "      border: none;\n",
              "      border-radius: 50%;\n",
              "      cursor: pointer;\n",
              "      display: none;\n",
              "      fill: #1967D2;\n",
              "      height: 32px;\n",
              "      padding: 0 0 0 0;\n",
              "      width: 32px;\n",
              "    }\n",
              "\n",
              "    .colab-df-convert:hover {\n",
              "      background-color: #E2EBFA;\n",
              "      box-shadow: 0px 1px 2px rgba(60, 64, 67, 0.3), 0px 1px 3px 1px rgba(60, 64, 67, 0.15);\n",
              "      fill: #174EA6;\n",
              "    }\n",
              "\n",
              "    [theme=dark] .colab-df-convert {\n",
              "      background-color: #3B4455;\n",
              "      fill: #D2E3FC;\n",
              "    }\n",
              "\n",
              "    [theme=dark] .colab-df-convert:hover {\n",
              "      background-color: #434B5C;\n",
              "      box-shadow: 0px 1px 3px 1px rgba(0, 0, 0, 0.15);\n",
              "      filter: drop-shadow(0px 1px 2px rgba(0, 0, 0, 0.3));\n",
              "      fill: #FFFFFF;\n",
              "    }\n",
              "  </style>\n",
              "\n",
              "      <script>\n",
              "        const buttonEl =\n",
              "          document.querySelector('#df-ad4f686e-8b92-4864-94f2-4cc343e56af6 button.colab-df-convert');\n",
              "        buttonEl.style.display =\n",
              "          google.colab.kernel.accessAllowed ? 'block' : 'none';\n",
              "\n",
              "        async function convertToInteractive(key) {\n",
              "          const element = document.querySelector('#df-ad4f686e-8b92-4864-94f2-4cc343e56af6');\n",
              "          const dataTable =\n",
              "            await google.colab.kernel.invokeFunction('convertToInteractive',\n",
              "                                                     [key], {});\n",
              "          if (!dataTable) return;\n",
              "\n",
              "          const docLinkHtml = 'Like what you see? Visit the ' +\n",
              "            '<a target=\"_blank\" href=https://colab.research.google.com/notebooks/data_table.ipynb>data table notebook</a>'\n",
              "            + ' to learn more about interactive tables.';\n",
              "          element.innerHTML = '';\n",
              "          dataTable['output_type'] = 'display_data';\n",
              "          await google.colab.output.renderOutput(dataTable, element);\n",
              "          const docLink = document.createElement('div');\n",
              "          docLink.innerHTML = docLinkHtml;\n",
              "          element.appendChild(docLink);\n",
              "        }\n",
              "      </script>\n",
              "    </div>\n",
              "  </div>\n",
              "  "
            ]
          },
          "metadata": {},
          "execution_count": 31
        }
      ]
    },
    {
      "cell_type": "markdown",
      "source": [
        "## Aggregation and Select Rows Based on Max and Min"
      ],
      "metadata": {
        "id": "5CaaZ3iI6L_Q"
      }
    },
    {
      "cell_type": "markdown",
      "source": [
        "Mencari nilai rata-rata column "
      ],
      "metadata": {
        "id": "c2RC8CaZ6aXI"
      }
    },
    {
      "cell_type": "code",
      "source": [
        "df2.age.mean()"
      ],
      "metadata": {
        "colab": {
          "base_uri": "https://localhost:8080/"
        },
        "id": "qFK3okY07lu6",
        "outputId": "0bb661cb-61de-4898-dd2a-1f5fad7c7a6b"
      },
      "execution_count": 32,
      "outputs": [
        {
          "output_type": "execute_result",
          "data": {
            "text/plain": [
              "15.0"
            ]
          },
          "metadata": {},
          "execution_count": 32
        }
      ]
    },
    {
      "cell_type": "markdown",
      "source": [
        "Mencari nilai max pada column"
      ],
      "metadata": {
        "id": "7kDpfDg76hTA"
      }
    },
    {
      "cell_type": "code",
      "source": [
        "df2.age.max()"
      ],
      "metadata": {
        "colab": {
          "base_uri": "https://localhost:8080/"
        },
        "id": "o3qXsYEQ7xJd",
        "outputId": "368622a8-1130-464a-cf30-e34d3d7cb97c"
      },
      "execution_count": null,
      "outputs": [
        {
          "output_type": "execute_result",
          "data": {
            "text/plain": [
              "20"
            ]
          },
          "metadata": {},
          "execution_count": 71
        }
      ]
    },
    {
      "cell_type": "markdown",
      "source": [
        "Filter rows berdasarkan nilai max column"
      ],
      "metadata": {
        "id": "aNQOl7sG6rGt"
      }
    },
    {
      "cell_type": "code",
      "source": [
        "df2[df2['age']== df2.age.max()]"
      ],
      "metadata": {
        "colab": {
          "base_uri": "https://localhost:8080/",
          "height": 80
        },
        "id": "s3hHwXC88QAY",
        "outputId": "bf190d80-e69f-4a7f-f991-5ec8a1fa0026"
      },
      "execution_count": null,
      "outputs": [
        {
          "output_type": "execute_result",
          "data": {
            "text/plain": [
              "       age  weight  height  siblings gender   IQ  Married  College   name\n",
              "Frans   20     239     6.1         1      M  115    False  Harvard  Frans"
            ],
            "text/html": [
              "\n",
              "  <div id=\"df-d6a501ab-4ac1-44a9-bfc5-98f1015efad4\">\n",
              "    <div class=\"colab-df-container\">\n",
              "      <div>\n",
              "<style scoped>\n",
              "    .dataframe tbody tr th:only-of-type {\n",
              "        vertical-align: middle;\n",
              "    }\n",
              "\n",
              "    .dataframe tbody tr th {\n",
              "        vertical-align: top;\n",
              "    }\n",
              "\n",
              "    .dataframe thead th {\n",
              "        text-align: right;\n",
              "    }\n",
              "</style>\n",
              "<table border=\"1\" class=\"dataframe\">\n",
              "  <thead>\n",
              "    <tr style=\"text-align: right;\">\n",
              "      <th></th>\n",
              "      <th>age</th>\n",
              "      <th>weight</th>\n",
              "      <th>height</th>\n",
              "      <th>siblings</th>\n",
              "      <th>gender</th>\n",
              "      <th>IQ</th>\n",
              "      <th>Married</th>\n",
              "      <th>College</th>\n",
              "      <th>name</th>\n",
              "    </tr>\n",
              "  </thead>\n",
              "  <tbody>\n",
              "    <tr>\n",
              "      <th>Frans</th>\n",
              "      <td>20</td>\n",
              "      <td>239</td>\n",
              "      <td>6.1</td>\n",
              "      <td>1</td>\n",
              "      <td>M</td>\n",
              "      <td>115</td>\n",
              "      <td>False</td>\n",
              "      <td>Harvard</td>\n",
              "      <td>Frans</td>\n",
              "    </tr>\n",
              "  </tbody>\n",
              "</table>\n",
              "</div>\n",
              "      <button class=\"colab-df-convert\" onclick=\"convertToInteractive('df-d6a501ab-4ac1-44a9-bfc5-98f1015efad4')\"\n",
              "              title=\"Convert this dataframe to an interactive table.\"\n",
              "              style=\"display:none;\">\n",
              "        \n",
              "  <svg xmlns=\"http://www.w3.org/2000/svg\" height=\"24px\"viewBox=\"0 0 24 24\"\n",
              "       width=\"24px\">\n",
              "    <path d=\"M0 0h24v24H0V0z\" fill=\"none\"/>\n",
              "    <path d=\"M18.56 5.44l.94 2.06.94-2.06 2.06-.94-2.06-.94-.94-2.06-.94 2.06-2.06.94zm-11 1L8.5 8.5l.94-2.06 2.06-.94-2.06-.94L8.5 2.5l-.94 2.06-2.06.94zm10 10l.94 2.06.94-2.06 2.06-.94-2.06-.94-.94-2.06-.94 2.06-2.06.94z\"/><path d=\"M17.41 7.96l-1.37-1.37c-.4-.4-.92-.59-1.43-.59-.52 0-1.04.2-1.43.59L10.3 9.45l-7.72 7.72c-.78.78-.78 2.05 0 2.83L4 21.41c.39.39.9.59 1.41.59.51 0 1.02-.2 1.41-.59l7.78-7.78 2.81-2.81c.8-.78.8-2.07 0-2.86zM5.41 20L4 18.59l7.72-7.72 1.47 1.35L5.41 20z\"/>\n",
              "  </svg>\n",
              "      </button>\n",
              "      \n",
              "  <style>\n",
              "    .colab-df-container {\n",
              "      display:flex;\n",
              "      flex-wrap:wrap;\n",
              "      gap: 12px;\n",
              "    }\n",
              "\n",
              "    .colab-df-convert {\n",
              "      background-color: #E8F0FE;\n",
              "      border: none;\n",
              "      border-radius: 50%;\n",
              "      cursor: pointer;\n",
              "      display: none;\n",
              "      fill: #1967D2;\n",
              "      height: 32px;\n",
              "      padding: 0 0 0 0;\n",
              "      width: 32px;\n",
              "    }\n",
              "\n",
              "    .colab-df-convert:hover {\n",
              "      background-color: #E2EBFA;\n",
              "      box-shadow: 0px 1px 2px rgba(60, 64, 67, 0.3), 0px 1px 3px 1px rgba(60, 64, 67, 0.15);\n",
              "      fill: #174EA6;\n",
              "    }\n",
              "\n",
              "    [theme=dark] .colab-df-convert {\n",
              "      background-color: #3B4455;\n",
              "      fill: #D2E3FC;\n",
              "    }\n",
              "\n",
              "    [theme=dark] .colab-df-convert:hover {\n",
              "      background-color: #434B5C;\n",
              "      box-shadow: 0px 1px 3px 1px rgba(0, 0, 0, 0.15);\n",
              "      filter: drop-shadow(0px 1px 2px rgba(0, 0, 0, 0.3));\n",
              "      fill: #FFFFFF;\n",
              "    }\n",
              "  </style>\n",
              "\n",
              "      <script>\n",
              "        const buttonEl =\n",
              "          document.querySelector('#df-d6a501ab-4ac1-44a9-bfc5-98f1015efad4 button.colab-df-convert');\n",
              "        buttonEl.style.display =\n",
              "          google.colab.kernel.accessAllowed ? 'block' : 'none';\n",
              "\n",
              "        async function convertToInteractive(key) {\n",
              "          const element = document.querySelector('#df-d6a501ab-4ac1-44a9-bfc5-98f1015efad4');\n",
              "          const dataTable =\n",
              "            await google.colab.kernel.invokeFunction('convertToInteractive',\n",
              "                                                     [key], {});\n",
              "          if (!dataTable) return;\n",
              "\n",
              "          const docLinkHtml = 'Like what you see? Visit the ' +\n",
              "            '<a target=\"_blank\" href=https://colab.research.google.com/notebooks/data_table.ipynb>data table notebook</a>'\n",
              "            + ' to learn more about interactive tables.';\n",
              "          element.innerHTML = '';\n",
              "          dataTable['output_type'] = 'display_data';\n",
              "          await google.colab.output.renderOutput(dataTable, element);\n",
              "          const docLink = document.createElement('div');\n",
              "          docLink.innerHTML = docLinkHtml;\n",
              "          element.appendChild(docLink);\n",
              "        }\n",
              "      </script>\n",
              "    </div>\n",
              "  </div>\n",
              "  "
            ]
          },
          "metadata": {},
          "execution_count": 73
        }
      ]
    },
    {
      "cell_type": "markdown",
      "source": [
        "Filter rows berdasarkan nilai min column"
      ],
      "metadata": {
        "id": "fpKJaTXf6xkg"
      }
    },
    {
      "cell_type": "code",
      "source": [
        "df2[df2['age']== df2.age.min()]"
      ],
      "metadata": {
        "colab": {
          "base_uri": "https://localhost:8080/",
          "height": 80
        },
        "id": "BY2IDHBB8cY0",
        "outputId": "586fba32-1553-434c-8029-461d81c2ae7b"
      },
      "execution_count": null,
      "outputs": [
        {
          "output_type": "execute_result",
          "data": {
            "text/plain": [
              "     age  weight  height  siblings gender   IQ  Married College name\n",
              "Joe   10      75     4.5         1      M  130    False     NaN  Joe"
            ],
            "text/html": [
              "\n",
              "  <div id=\"df-288f453e-b559-49bd-91ee-d1f15f4168b3\">\n",
              "    <div class=\"colab-df-container\">\n",
              "      <div>\n",
              "<style scoped>\n",
              "    .dataframe tbody tr th:only-of-type {\n",
              "        vertical-align: middle;\n",
              "    }\n",
              "\n",
              "    .dataframe tbody tr th {\n",
              "        vertical-align: top;\n",
              "    }\n",
              "\n",
              "    .dataframe thead th {\n",
              "        text-align: right;\n",
              "    }\n",
              "</style>\n",
              "<table border=\"1\" class=\"dataframe\">\n",
              "  <thead>\n",
              "    <tr style=\"text-align: right;\">\n",
              "      <th></th>\n",
              "      <th>age</th>\n",
              "      <th>weight</th>\n",
              "      <th>height</th>\n",
              "      <th>siblings</th>\n",
              "      <th>gender</th>\n",
              "      <th>IQ</th>\n",
              "      <th>Married</th>\n",
              "      <th>College</th>\n",
              "      <th>name</th>\n",
              "    </tr>\n",
              "  </thead>\n",
              "  <tbody>\n",
              "    <tr>\n",
              "      <th>Joe</th>\n",
              "      <td>10</td>\n",
              "      <td>75</td>\n",
              "      <td>4.5</td>\n",
              "      <td>1</td>\n",
              "      <td>M</td>\n",
              "      <td>130</td>\n",
              "      <td>False</td>\n",
              "      <td>NaN</td>\n",
              "      <td>Joe</td>\n",
              "    </tr>\n",
              "  </tbody>\n",
              "</table>\n",
              "</div>\n",
              "      <button class=\"colab-df-convert\" onclick=\"convertToInteractive('df-288f453e-b559-49bd-91ee-d1f15f4168b3')\"\n",
              "              title=\"Convert this dataframe to an interactive table.\"\n",
              "              style=\"display:none;\">\n",
              "        \n",
              "  <svg xmlns=\"http://www.w3.org/2000/svg\" height=\"24px\"viewBox=\"0 0 24 24\"\n",
              "       width=\"24px\">\n",
              "    <path d=\"M0 0h24v24H0V0z\" fill=\"none\"/>\n",
              "    <path d=\"M18.56 5.44l.94 2.06.94-2.06 2.06-.94-2.06-.94-.94-2.06-.94 2.06-2.06.94zm-11 1L8.5 8.5l.94-2.06 2.06-.94-2.06-.94L8.5 2.5l-.94 2.06-2.06.94zm10 10l.94 2.06.94-2.06 2.06-.94-2.06-.94-.94-2.06-.94 2.06-2.06.94z\"/><path d=\"M17.41 7.96l-1.37-1.37c-.4-.4-.92-.59-1.43-.59-.52 0-1.04.2-1.43.59L10.3 9.45l-7.72 7.72c-.78.78-.78 2.05 0 2.83L4 21.41c.39.39.9.59 1.41.59.51 0 1.02-.2 1.41-.59l7.78-7.78 2.81-2.81c.8-.78.8-2.07 0-2.86zM5.41 20L4 18.59l7.72-7.72 1.47 1.35L5.41 20z\"/>\n",
              "  </svg>\n",
              "      </button>\n",
              "      \n",
              "  <style>\n",
              "    .colab-df-container {\n",
              "      display:flex;\n",
              "      flex-wrap:wrap;\n",
              "      gap: 12px;\n",
              "    }\n",
              "\n",
              "    .colab-df-convert {\n",
              "      background-color: #E8F0FE;\n",
              "      border: none;\n",
              "      border-radius: 50%;\n",
              "      cursor: pointer;\n",
              "      display: none;\n",
              "      fill: #1967D2;\n",
              "      height: 32px;\n",
              "      padding: 0 0 0 0;\n",
              "      width: 32px;\n",
              "    }\n",
              "\n",
              "    .colab-df-convert:hover {\n",
              "      background-color: #E2EBFA;\n",
              "      box-shadow: 0px 1px 2px rgba(60, 64, 67, 0.3), 0px 1px 3px 1px rgba(60, 64, 67, 0.15);\n",
              "      fill: #174EA6;\n",
              "    }\n",
              "\n",
              "    [theme=dark] .colab-df-convert {\n",
              "      background-color: #3B4455;\n",
              "      fill: #D2E3FC;\n",
              "    }\n",
              "\n",
              "    [theme=dark] .colab-df-convert:hover {\n",
              "      background-color: #434B5C;\n",
              "      box-shadow: 0px 1px 3px 1px rgba(0, 0, 0, 0.15);\n",
              "      filter: drop-shadow(0px 1px 2px rgba(0, 0, 0, 0.3));\n",
              "      fill: #FFFFFF;\n",
              "    }\n",
              "  </style>\n",
              "\n",
              "      <script>\n",
              "        const buttonEl =\n",
              "          document.querySelector('#df-288f453e-b559-49bd-91ee-d1f15f4168b3 button.colab-df-convert');\n",
              "        buttonEl.style.display =\n",
              "          google.colab.kernel.accessAllowed ? 'block' : 'none';\n",
              "\n",
              "        async function convertToInteractive(key) {\n",
              "          const element = document.querySelector('#df-288f453e-b559-49bd-91ee-d1f15f4168b3');\n",
              "          const dataTable =\n",
              "            await google.colab.kernel.invokeFunction('convertToInteractive',\n",
              "                                                     [key], {});\n",
              "          if (!dataTable) return;\n",
              "\n",
              "          const docLinkHtml = 'Like what you see? Visit the ' +\n",
              "            '<a target=\"_blank\" href=https://colab.research.google.com/notebooks/data_table.ipynb>data table notebook</a>'\n",
              "            + ' to learn more about interactive tables.';\n",
              "          element.innerHTML = '';\n",
              "          dataTable['output_type'] = 'display_data';\n",
              "          await google.colab.output.renderOutput(dataTable, element);\n",
              "          const docLink = document.createElement('div');\n",
              "          docLink.innerHTML = docLinkHtml;\n",
              "          element.appendChild(docLink);\n",
              "        }\n",
              "      </script>\n",
              "    </div>\n",
              "  </div>\n",
              "  "
            ]
          },
          "metadata": {},
          "execution_count": 74
        }
      ]
    }
  ],
  "metadata": {
    "kernelspec": {
      "name": "python3",
      "display_name": "Python 3",
      "language": "python"
    },
    "language_info": {
      "name": "python",
      "version": "3.6.6",
      "mimetype": "text/x-python",
      "codemirror_mode": {
        "name": "ipython",
        "version": 3
      },
      "pygments_lexer": "ipython3",
      "nbconvert_exporter": "python",
      "file_extension": ".py"
    },
    "colab": {
      "name": "pandas-introduction.ipynb",
      "provenance": [],
      "collapsed_sections": []
    }
  },
  "nbformat": 4,
  "nbformat_minor": 0
}